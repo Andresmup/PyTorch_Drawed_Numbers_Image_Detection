{
  "nbformat": 4,
  "nbformat_minor": 0,
  "metadata": {
    "colab": {
      "provenance": [],
      "gpuType": "T4",
      "toc_visible": true,
      "authorship_tag": "ABX9TyO2LOYkbGxqhd4X7fffD/5l"
    },
    "kernelspec": {
      "name": "python3",
      "display_name": "Python 3"
    },
    "language_info": {
      "name": "python"
    },
    "accelerator": "GPU",
    "widgets": {
      "application/vnd.jupyter.widget-state+json": {
        "4eacdff33ee14772b9622a0c7a3672a5": {
          "model_module": "@jupyter-widgets/controls",
          "model_name": "HBoxModel",
          "model_module_version": "1.5.0",
          "state": {
            "_dom_classes": [],
            "_model_module": "@jupyter-widgets/controls",
            "_model_module_version": "1.5.0",
            "_model_name": "HBoxModel",
            "_view_count": null,
            "_view_module": "@jupyter-widgets/controls",
            "_view_module_version": "1.5.0",
            "_view_name": "HBoxView",
            "box_style": "",
            "children": [
              "IPY_MODEL_297cbd8dbcfe4ce8914b81ea8443b947",
              "IPY_MODEL_5b955e7ff29b456a84982389a8d25d46",
              "IPY_MODEL_53debd3a76cf4448b3379cff8495b515"
            ],
            "layout": "IPY_MODEL_0500b08d456e434abbee16a242ed6ba9"
          }
        },
        "297cbd8dbcfe4ce8914b81ea8443b947": {
          "model_module": "@jupyter-widgets/controls",
          "model_name": "HTMLModel",
          "model_module_version": "1.5.0",
          "state": {
            "_dom_classes": [],
            "_model_module": "@jupyter-widgets/controls",
            "_model_module_version": "1.5.0",
            "_model_name": "HTMLModel",
            "_view_count": null,
            "_view_module": "@jupyter-widgets/controls",
            "_view_module_version": "1.5.0",
            "_view_name": "HTMLView",
            "description": "",
            "description_tooltip": null,
            "layout": "IPY_MODEL_71db4be7c876421f965583797d171efe",
            "placeholder": "​",
            "style": "IPY_MODEL_b9713cee4c0b4f13859f81cd07c31239",
            "value": "100%"
          }
        },
        "5b955e7ff29b456a84982389a8d25d46": {
          "model_module": "@jupyter-widgets/controls",
          "model_name": "FloatProgressModel",
          "model_module_version": "1.5.0",
          "state": {
            "_dom_classes": [],
            "_model_module": "@jupyter-widgets/controls",
            "_model_module_version": "1.5.0",
            "_model_name": "FloatProgressModel",
            "_view_count": null,
            "_view_module": "@jupyter-widgets/controls",
            "_view_module_version": "1.5.0",
            "_view_name": "ProgressView",
            "bar_style": "success",
            "description": "",
            "description_tooltip": null,
            "layout": "IPY_MODEL_d20a4105ba904470a173811e9e0ef7f4",
            "max": 10,
            "min": 0,
            "orientation": "horizontal",
            "style": "IPY_MODEL_656a6ea3091047d78ff5f437262319b0",
            "value": 10
          }
        },
        "53debd3a76cf4448b3379cff8495b515": {
          "model_module": "@jupyter-widgets/controls",
          "model_name": "HTMLModel",
          "model_module_version": "1.5.0",
          "state": {
            "_dom_classes": [],
            "_model_module": "@jupyter-widgets/controls",
            "_model_module_version": "1.5.0",
            "_model_name": "HTMLModel",
            "_view_count": null,
            "_view_module": "@jupyter-widgets/controls",
            "_view_module_version": "1.5.0",
            "_view_name": "HTMLView",
            "description": "",
            "description_tooltip": null,
            "layout": "IPY_MODEL_0ed3d0facaad451cb196305623703f9d",
            "placeholder": "​",
            "style": "IPY_MODEL_6c13683bb8fe4a478b9e57a552d018dc",
            "value": " 10/10 [02:35&lt;00:00, 13.79s/it]"
          }
        },
        "0500b08d456e434abbee16a242ed6ba9": {
          "model_module": "@jupyter-widgets/base",
          "model_name": "LayoutModel",
          "model_module_version": "1.2.0",
          "state": {
            "_model_module": "@jupyter-widgets/base",
            "_model_module_version": "1.2.0",
            "_model_name": "LayoutModel",
            "_view_count": null,
            "_view_module": "@jupyter-widgets/base",
            "_view_module_version": "1.2.0",
            "_view_name": "LayoutView",
            "align_content": null,
            "align_items": null,
            "align_self": null,
            "border": null,
            "bottom": null,
            "display": null,
            "flex": null,
            "flex_flow": null,
            "grid_area": null,
            "grid_auto_columns": null,
            "grid_auto_flow": null,
            "grid_auto_rows": null,
            "grid_column": null,
            "grid_gap": null,
            "grid_row": null,
            "grid_template_areas": null,
            "grid_template_columns": null,
            "grid_template_rows": null,
            "height": null,
            "justify_content": null,
            "justify_items": null,
            "left": null,
            "margin": null,
            "max_height": null,
            "max_width": null,
            "min_height": null,
            "min_width": null,
            "object_fit": null,
            "object_position": null,
            "order": null,
            "overflow": null,
            "overflow_x": null,
            "overflow_y": null,
            "padding": null,
            "right": null,
            "top": null,
            "visibility": null,
            "width": null
          }
        },
        "71db4be7c876421f965583797d171efe": {
          "model_module": "@jupyter-widgets/base",
          "model_name": "LayoutModel",
          "model_module_version": "1.2.0",
          "state": {
            "_model_module": "@jupyter-widgets/base",
            "_model_module_version": "1.2.0",
            "_model_name": "LayoutModel",
            "_view_count": null,
            "_view_module": "@jupyter-widgets/base",
            "_view_module_version": "1.2.0",
            "_view_name": "LayoutView",
            "align_content": null,
            "align_items": null,
            "align_self": null,
            "border": null,
            "bottom": null,
            "display": null,
            "flex": null,
            "flex_flow": null,
            "grid_area": null,
            "grid_auto_columns": null,
            "grid_auto_flow": null,
            "grid_auto_rows": null,
            "grid_column": null,
            "grid_gap": null,
            "grid_row": null,
            "grid_template_areas": null,
            "grid_template_columns": null,
            "grid_template_rows": null,
            "height": null,
            "justify_content": null,
            "justify_items": null,
            "left": null,
            "margin": null,
            "max_height": null,
            "max_width": null,
            "min_height": null,
            "min_width": null,
            "object_fit": null,
            "object_position": null,
            "order": null,
            "overflow": null,
            "overflow_x": null,
            "overflow_y": null,
            "padding": null,
            "right": null,
            "top": null,
            "visibility": null,
            "width": null
          }
        },
        "b9713cee4c0b4f13859f81cd07c31239": {
          "model_module": "@jupyter-widgets/controls",
          "model_name": "DescriptionStyleModel",
          "model_module_version": "1.5.0",
          "state": {
            "_model_module": "@jupyter-widgets/controls",
            "_model_module_version": "1.5.0",
            "_model_name": "DescriptionStyleModel",
            "_view_count": null,
            "_view_module": "@jupyter-widgets/base",
            "_view_module_version": "1.2.0",
            "_view_name": "StyleView",
            "description_width": ""
          }
        },
        "d20a4105ba904470a173811e9e0ef7f4": {
          "model_module": "@jupyter-widgets/base",
          "model_name": "LayoutModel",
          "model_module_version": "1.2.0",
          "state": {
            "_model_module": "@jupyter-widgets/base",
            "_model_module_version": "1.2.0",
            "_model_name": "LayoutModel",
            "_view_count": null,
            "_view_module": "@jupyter-widgets/base",
            "_view_module_version": "1.2.0",
            "_view_name": "LayoutView",
            "align_content": null,
            "align_items": null,
            "align_self": null,
            "border": null,
            "bottom": null,
            "display": null,
            "flex": null,
            "flex_flow": null,
            "grid_area": null,
            "grid_auto_columns": null,
            "grid_auto_flow": null,
            "grid_auto_rows": null,
            "grid_column": null,
            "grid_gap": null,
            "grid_row": null,
            "grid_template_areas": null,
            "grid_template_columns": null,
            "grid_template_rows": null,
            "height": null,
            "justify_content": null,
            "justify_items": null,
            "left": null,
            "margin": null,
            "max_height": null,
            "max_width": null,
            "min_height": null,
            "min_width": null,
            "object_fit": null,
            "object_position": null,
            "order": null,
            "overflow": null,
            "overflow_x": null,
            "overflow_y": null,
            "padding": null,
            "right": null,
            "top": null,
            "visibility": null,
            "width": null
          }
        },
        "656a6ea3091047d78ff5f437262319b0": {
          "model_module": "@jupyter-widgets/controls",
          "model_name": "ProgressStyleModel",
          "model_module_version": "1.5.0",
          "state": {
            "_model_module": "@jupyter-widgets/controls",
            "_model_module_version": "1.5.0",
            "_model_name": "ProgressStyleModel",
            "_view_count": null,
            "_view_module": "@jupyter-widgets/base",
            "_view_module_version": "1.2.0",
            "_view_name": "StyleView",
            "bar_color": null,
            "description_width": ""
          }
        },
        "0ed3d0facaad451cb196305623703f9d": {
          "model_module": "@jupyter-widgets/base",
          "model_name": "LayoutModel",
          "model_module_version": "1.2.0",
          "state": {
            "_model_module": "@jupyter-widgets/base",
            "_model_module_version": "1.2.0",
            "_model_name": "LayoutModel",
            "_view_count": null,
            "_view_module": "@jupyter-widgets/base",
            "_view_module_version": "1.2.0",
            "_view_name": "LayoutView",
            "align_content": null,
            "align_items": null,
            "align_self": null,
            "border": null,
            "bottom": null,
            "display": null,
            "flex": null,
            "flex_flow": null,
            "grid_area": null,
            "grid_auto_columns": null,
            "grid_auto_flow": null,
            "grid_auto_rows": null,
            "grid_column": null,
            "grid_gap": null,
            "grid_row": null,
            "grid_template_areas": null,
            "grid_template_columns": null,
            "grid_template_rows": null,
            "height": null,
            "justify_content": null,
            "justify_items": null,
            "left": null,
            "margin": null,
            "max_height": null,
            "max_width": null,
            "min_height": null,
            "min_width": null,
            "object_fit": null,
            "object_position": null,
            "order": null,
            "overflow": null,
            "overflow_x": null,
            "overflow_y": null,
            "padding": null,
            "right": null,
            "top": null,
            "visibility": null,
            "width": null
          }
        },
        "6c13683bb8fe4a478b9e57a552d018dc": {
          "model_module": "@jupyter-widgets/controls",
          "model_name": "DescriptionStyleModel",
          "model_module_version": "1.5.0",
          "state": {
            "_model_module": "@jupyter-widgets/controls",
            "_model_module_version": "1.5.0",
            "_model_name": "DescriptionStyleModel",
            "_view_count": null,
            "_view_module": "@jupyter-widgets/base",
            "_view_module_version": "1.2.0",
            "_view_name": "StyleView",
            "description_width": ""
          }
        },
        "f86df2862dac41c2931506ee3841eebd": {
          "model_module": "@jupyter-widgets/controls",
          "model_name": "HBoxModel",
          "model_module_version": "1.5.0",
          "state": {
            "_dom_classes": [],
            "_model_module": "@jupyter-widgets/controls",
            "_model_module_version": "1.5.0",
            "_model_name": "HBoxModel",
            "_view_count": null,
            "_view_module": "@jupyter-widgets/controls",
            "_view_module_version": "1.5.0",
            "_view_name": "HBoxView",
            "box_style": "",
            "children": [
              "IPY_MODEL_6a79b16c4db9420ab580eb1460df1794",
              "IPY_MODEL_99d797f69acb415ea8bfa7edb65d43ee",
              "IPY_MODEL_7671f1379ab040f2a0f5dd3c64d2028a"
            ],
            "layout": "IPY_MODEL_95805df1703b4ec4ad8e7205bc33e7c3"
          }
        },
        "6a79b16c4db9420ab580eb1460df1794": {
          "model_module": "@jupyter-widgets/controls",
          "model_name": "HTMLModel",
          "model_module_version": "1.5.0",
          "state": {
            "_dom_classes": [],
            "_model_module": "@jupyter-widgets/controls",
            "_model_module_version": "1.5.0",
            "_model_name": "HTMLModel",
            "_view_count": null,
            "_view_module": "@jupyter-widgets/controls",
            "_view_module_version": "1.5.0",
            "_view_name": "HTMLView",
            "description": "",
            "description_tooltip": null,
            "layout": "IPY_MODEL_8866505ff7b8470099de456ee132aa23",
            "placeholder": "​",
            "style": "IPY_MODEL_9b823e3bc41f467eaf3361068ad144c8",
            "value": "Making predictions: 100%"
          }
        },
        "99d797f69acb415ea8bfa7edb65d43ee": {
          "model_module": "@jupyter-widgets/controls",
          "model_name": "FloatProgressModel",
          "model_module_version": "1.5.0",
          "state": {
            "_dom_classes": [],
            "_model_module": "@jupyter-widgets/controls",
            "_model_module_version": "1.5.0",
            "_model_name": "FloatProgressModel",
            "_view_count": null,
            "_view_module": "@jupyter-widgets/controls",
            "_view_module_version": "1.5.0",
            "_view_name": "ProgressView",
            "bar_style": "success",
            "description": "",
            "description_tooltip": null,
            "layout": "IPY_MODEL_81afbd33f4ca472ca010d127aba17f76",
            "max": 2,
            "min": 0,
            "orientation": "horizontal",
            "style": "IPY_MODEL_d801f6fa8b864b46af903b1a4eaab477",
            "value": 2
          }
        },
        "7671f1379ab040f2a0f5dd3c64d2028a": {
          "model_module": "@jupyter-widgets/controls",
          "model_name": "HTMLModel",
          "model_module_version": "1.5.0",
          "state": {
            "_dom_classes": [],
            "_model_module": "@jupyter-widgets/controls",
            "_model_module_version": "1.5.0",
            "_model_name": "HTMLModel",
            "_view_count": null,
            "_view_module": "@jupyter-widgets/controls",
            "_view_module_version": "1.5.0",
            "_view_name": "HTMLView",
            "description": "",
            "description_tooltip": null,
            "layout": "IPY_MODEL_0cdcdcdff09145ac917aea7fd00fb336",
            "placeholder": "​",
            "style": "IPY_MODEL_03552198140e43888da963fee2285439",
            "value": " 2/2 [00:00&lt;00:00,  4.19it/s]"
          }
        },
        "95805df1703b4ec4ad8e7205bc33e7c3": {
          "model_module": "@jupyter-widgets/base",
          "model_name": "LayoutModel",
          "model_module_version": "1.2.0",
          "state": {
            "_model_module": "@jupyter-widgets/base",
            "_model_module_version": "1.2.0",
            "_model_name": "LayoutModel",
            "_view_count": null,
            "_view_module": "@jupyter-widgets/base",
            "_view_module_version": "1.2.0",
            "_view_name": "LayoutView",
            "align_content": null,
            "align_items": null,
            "align_self": null,
            "border": null,
            "bottom": null,
            "display": null,
            "flex": null,
            "flex_flow": null,
            "grid_area": null,
            "grid_auto_columns": null,
            "grid_auto_flow": null,
            "grid_auto_rows": null,
            "grid_column": null,
            "grid_gap": null,
            "grid_row": null,
            "grid_template_areas": null,
            "grid_template_columns": null,
            "grid_template_rows": null,
            "height": null,
            "justify_content": null,
            "justify_items": null,
            "left": null,
            "margin": null,
            "max_height": null,
            "max_width": null,
            "min_height": null,
            "min_width": null,
            "object_fit": null,
            "object_position": null,
            "order": null,
            "overflow": null,
            "overflow_x": null,
            "overflow_y": null,
            "padding": null,
            "right": null,
            "top": null,
            "visibility": null,
            "width": null
          }
        },
        "8866505ff7b8470099de456ee132aa23": {
          "model_module": "@jupyter-widgets/base",
          "model_name": "LayoutModel",
          "model_module_version": "1.2.0",
          "state": {
            "_model_module": "@jupyter-widgets/base",
            "_model_module_version": "1.2.0",
            "_model_name": "LayoutModel",
            "_view_count": null,
            "_view_module": "@jupyter-widgets/base",
            "_view_module_version": "1.2.0",
            "_view_name": "LayoutView",
            "align_content": null,
            "align_items": null,
            "align_self": null,
            "border": null,
            "bottom": null,
            "display": null,
            "flex": null,
            "flex_flow": null,
            "grid_area": null,
            "grid_auto_columns": null,
            "grid_auto_flow": null,
            "grid_auto_rows": null,
            "grid_column": null,
            "grid_gap": null,
            "grid_row": null,
            "grid_template_areas": null,
            "grid_template_columns": null,
            "grid_template_rows": null,
            "height": null,
            "justify_content": null,
            "justify_items": null,
            "left": null,
            "margin": null,
            "max_height": null,
            "max_width": null,
            "min_height": null,
            "min_width": null,
            "object_fit": null,
            "object_position": null,
            "order": null,
            "overflow": null,
            "overflow_x": null,
            "overflow_y": null,
            "padding": null,
            "right": null,
            "top": null,
            "visibility": null,
            "width": null
          }
        },
        "9b823e3bc41f467eaf3361068ad144c8": {
          "model_module": "@jupyter-widgets/controls",
          "model_name": "DescriptionStyleModel",
          "model_module_version": "1.5.0",
          "state": {
            "_model_module": "@jupyter-widgets/controls",
            "_model_module_version": "1.5.0",
            "_model_name": "DescriptionStyleModel",
            "_view_count": null,
            "_view_module": "@jupyter-widgets/base",
            "_view_module_version": "1.2.0",
            "_view_name": "StyleView",
            "description_width": ""
          }
        },
        "81afbd33f4ca472ca010d127aba17f76": {
          "model_module": "@jupyter-widgets/base",
          "model_name": "LayoutModel",
          "model_module_version": "1.2.0",
          "state": {
            "_model_module": "@jupyter-widgets/base",
            "_model_module_version": "1.2.0",
            "_model_name": "LayoutModel",
            "_view_count": null,
            "_view_module": "@jupyter-widgets/base",
            "_view_module_version": "1.2.0",
            "_view_name": "LayoutView",
            "align_content": null,
            "align_items": null,
            "align_self": null,
            "border": null,
            "bottom": null,
            "display": null,
            "flex": null,
            "flex_flow": null,
            "grid_area": null,
            "grid_auto_columns": null,
            "grid_auto_flow": null,
            "grid_auto_rows": null,
            "grid_column": null,
            "grid_gap": null,
            "grid_row": null,
            "grid_template_areas": null,
            "grid_template_columns": null,
            "grid_template_rows": null,
            "height": null,
            "justify_content": null,
            "justify_items": null,
            "left": null,
            "margin": null,
            "max_height": null,
            "max_width": null,
            "min_height": null,
            "min_width": null,
            "object_fit": null,
            "object_position": null,
            "order": null,
            "overflow": null,
            "overflow_x": null,
            "overflow_y": null,
            "padding": null,
            "right": null,
            "top": null,
            "visibility": null,
            "width": null
          }
        },
        "d801f6fa8b864b46af903b1a4eaab477": {
          "model_module": "@jupyter-widgets/controls",
          "model_name": "ProgressStyleModel",
          "model_module_version": "1.5.0",
          "state": {
            "_model_module": "@jupyter-widgets/controls",
            "_model_module_version": "1.5.0",
            "_model_name": "ProgressStyleModel",
            "_view_count": null,
            "_view_module": "@jupyter-widgets/base",
            "_view_module_version": "1.2.0",
            "_view_name": "StyleView",
            "bar_color": null,
            "description_width": ""
          }
        },
        "0cdcdcdff09145ac917aea7fd00fb336": {
          "model_module": "@jupyter-widgets/base",
          "model_name": "LayoutModel",
          "model_module_version": "1.2.0",
          "state": {
            "_model_module": "@jupyter-widgets/base",
            "_model_module_version": "1.2.0",
            "_model_name": "LayoutModel",
            "_view_count": null,
            "_view_module": "@jupyter-widgets/base",
            "_view_module_version": "1.2.0",
            "_view_name": "LayoutView",
            "align_content": null,
            "align_items": null,
            "align_self": null,
            "border": null,
            "bottom": null,
            "display": null,
            "flex": null,
            "flex_flow": null,
            "grid_area": null,
            "grid_auto_columns": null,
            "grid_auto_flow": null,
            "grid_auto_rows": null,
            "grid_column": null,
            "grid_gap": null,
            "grid_row": null,
            "grid_template_areas": null,
            "grid_template_columns": null,
            "grid_template_rows": null,
            "height": null,
            "justify_content": null,
            "justify_items": null,
            "left": null,
            "margin": null,
            "max_height": null,
            "max_width": null,
            "min_height": null,
            "min_width": null,
            "object_fit": null,
            "object_position": null,
            "order": null,
            "overflow": null,
            "overflow_x": null,
            "overflow_y": null,
            "padding": null,
            "right": null,
            "top": null,
            "visibility": null,
            "width": null
          }
        },
        "03552198140e43888da963fee2285439": {
          "model_module": "@jupyter-widgets/controls",
          "model_name": "DescriptionStyleModel",
          "model_module_version": "1.5.0",
          "state": {
            "_model_module": "@jupyter-widgets/controls",
            "_model_module_version": "1.5.0",
            "_model_name": "DescriptionStyleModel",
            "_view_count": null,
            "_view_module": "@jupyter-widgets/base",
            "_view_module_version": "1.2.0",
            "_view_name": "StyleView",
            "description_width": ""
          }
        }
      }
    }
  },
  "cells": [
    {
      "cell_type": "markdown",
      "source": [
        "# **PYTORCH DRAWED NUMBERS IMAGE DETECTION**"
      ],
      "metadata": {
        "id": "CCiAw6evNXsR"
      }
    },
    {
      "cell_type": "markdown",
      "source": [
        "#ABSTRACT"
      ],
      "metadata": {
        "id": "UORACxT_quIQ"
      }
    },
    {
      "cell_type": "markdown",
      "source": [
        "Este proyecto busca crear un modelo de red neuronal, capaz de detectar numeros a partir de imagenes de numeros realizadas con un programa de dibujo. Para ello se utiliza el framework Pytorch. Utilizando diferentes herramientas para crear un modelo de CNN (Convolutional neural network) simple, liviano y rapido pero lo suficientemente efectivo para realizar la tarea."
      ],
      "metadata": {
        "id": "aZ42gZQf0FPS"
      }
    },
    {
      "cell_type": "markdown",
      "source": [
        "#PREPARACIÓN ENTORNO"
      ],
      "metadata": {
        "id": "uxnUnsVZq8sy"
      }
    },
    {
      "cell_type": "markdown",
      "source": [
        "Importación e instalación de librerias."
      ],
      "metadata": {
        "id": "LHrqwf-IQAVZ"
      }
    },
    {
      "cell_type": "code",
      "execution_count": null,
      "metadata": {
        "colab": {
          "base_uri": "https://localhost:8080/"
        },
        "id": "edDN3KuRcx6a",
        "outputId": "545192fc-567f-4a18-c10f-a41f9e704c27"
      },
      "outputs": [
        {
          "output_type": "stream",
          "name": "stdout",
          "text": [
            "2.1.0+cu121\n",
            "0.16.0+cu121\n"
          ]
        }
      ],
      "source": [
        "import torch\n",
        "from torch import nn\n",
        "from torch.utils.data import Dataset\n",
        "\n",
        "import torchvision\n",
        "from torchvision import datasets\n",
        "from torchvision import transforms\n",
        "from torchvision.transforms import ToTensor\n",
        "from torchvision.transforms import v2\n",
        "\n",
        "import pandas as pd\n",
        "import matplotlib.pyplot as plt\n",
        "import numpy as np\n",
        "\n",
        "from typing import Tuple, Dict, List\n",
        "\n",
        "import pathlib\n",
        "from pathlib import Path\n",
        "\n",
        "import random\n",
        "from PIL import Image\n",
        "\n",
        "import sklearn\n",
        "from sklearn.model_selection import train_test_split\n",
        "from sklearn.metrics import accuracy_score\n",
        "\n",
        "from pathlib import Path\n",
        "\n",
        "from timeit import default_timer as timer\n",
        "\n",
        "from tqdm.auto import tqdm\n",
        "\n",
        "from pathlib import Path\n",
        "\n",
        "import os\n",
        "import requests\n",
        "import zipfile\n",
        "\n",
        "print(torch.__version__)\n",
        "print(torchvision.__version__)"
      ]
    },
    {
      "cell_type": "code",
      "source": [
        "try:\n",
        "    from torchmetrics import Accuracy\n",
        "except:\n",
        "    !pip install torchmetrics\n",
        "    import torchmetrics\n",
        "    from torchmetrics import Accuracy"
      ],
      "metadata": {
        "id": "7Ms5TN3bdrHO"
      },
      "execution_count": null,
      "outputs": []
    },
    {
      "cell_type": "code",
      "source": [
        "try:\n",
        "    from torchinfo import summary\n",
        "except:\n",
        "    !pip install torchinfo\n",
        "    import torchinfo\n",
        "    from torchinfo import summary"
      ],
      "metadata": {
        "id": "OVUDiBBQj9Qm"
      },
      "execution_count": null,
      "outputs": []
    },
    {
      "cell_type": "code",
      "source": [
        "try:\n",
        "    import torchmetrics, mlxtend\n",
        "    print(f\"mlxtend version: {mlxtend.__version__}\")\n",
        "    assert int(mlxtend.__version__.split(\".\")[1]) >= 19, \"mlxtend verison should be 0.19.0 or higher\"\n",
        "except:\n",
        "    !pip install -q torchmetrics -U mlxtend # <- Note: If you're using Google Colab, this may require restarting the runtime\n",
        "    import torchmetrics, mlxtend\n",
        "    print(f\"mlxtend version: {mlxtend.__version__}\")"
      ],
      "metadata": {
        "colab": {
          "base_uri": "https://localhost:8080/"
        },
        "id": "EZYD5mpGd93M",
        "outputId": "1b689fca-1550-4c86-8d2c-943a55cde381"
      },
      "execution_count": null,
      "outputs": [
        {
          "output_type": "stream",
          "name": "stdout",
          "text": [
            "mlxtend version: 0.22.0\n"
          ]
        }
      ]
    },
    {
      "cell_type": "code",
      "source": [
        "import mlxtend\n",
        "print(mlxtend.__version__)\n",
        "assert int(mlxtend.__version__.split(\".\")[1]) >= 19"
      ],
      "metadata": {
        "colab": {
          "base_uri": "https://localhost:8080/"
        },
        "id": "aZlVudimd_7v",
        "outputId": "73f0fc75-b6af-4d52-b3ff-ab3d589befd4"
      },
      "execution_count": null,
      "outputs": [
        {
          "output_type": "stream",
          "name": "stdout",
          "text": [
            "0.22.0\n"
          ]
        }
      ]
    },
    {
      "cell_type": "code",
      "source": [
        "from torchmetrics import ConfusionMatrix\n",
        "from mlxtend.plotting import plot_confusion_matrix"
      ],
      "metadata": {
        "id": "D-8Em0k-eHRE"
      },
      "execution_count": null,
      "outputs": []
    },
    {
      "cell_type": "markdown",
      "source": [
        "#OBTENCIÓN DE IMAGENES"
      ],
      "metadata": {
        "id": "LusJ3NRZrEaO"
      }
    },
    {
      "cell_type": "markdown",
      "source": [
        "Para poder entrenar y testear el modelo usaremos el dataset MNIST. El cual tiene 60000 imagenes para entrenamiento y 10000 para testeo. Las cuales estan ya etiquetadas."
      ],
      "metadata": {
        "id": "J57gLD5IQSiB"
      }
    },
    {
      "cell_type": "code",
      "source": [
        "train_data = torchvision.datasets.MNIST(root= \"data\", #Where to download data to?\n",
        "                                  train = True, #Train dataset? -> True\n",
        "                                  transform = torchvision.transforms.ToTensor(), #Apply any transformation? We transform to tensor\n",
        "                                  target_transform = None, #Tranform labels target?\n",
        "                                  download = True\n",
        ")\n",
        "\n",
        "test_data = datasets.MNIST(root= \"data\",\n",
        "                                  train = False, #Train dataset? -> False\n",
        "                                  transform = torchvision.transforms.ToTensor(), #Apply any transformation? We transform to tensor\n",
        "                                  target_transform = None,\n",
        "                                  download = True\n",
        ")"
      ],
      "metadata": {
        "id": "bBncGStyeOXJ"
      },
      "execution_count": null,
      "outputs": []
    },
    {
      "cell_type": "markdown",
      "source": [
        "Como prueba adicional y finalidad de este proyecto. Se intentara detectar que numeros representan las imagenes creadas usando un programa de dibujo. En este caso se dibujaron diferentes numeros usando Paint y se guardaron estas imagenes en carpetas. Por fines practicos esta carpeta se encuetra compromida en un repositorio de github por lo que se debe descargar y descomprimir.\n",
        "\n",
        "El link al respositorio: https://github.com/Andresmup/ArchivosDataScience/raw/main/custom_images.zip"
      ],
      "metadata": {
        "id": "FAk8RddoQ2Gr"
      }
    },
    {
      "cell_type": "code",
      "source": [
        "#Copy custom images from \"https://github.com/Andresmup/ArchivosDataScience/raw/main/custom_images.zip\"\n",
        "\n",
        "data_path = Path(\"data/\")\n",
        "custom_image_path = data_path / \"custom_images\"\n",
        "\n",
        "\n",
        "# If the image folder doesn't exist, download it and prepare it...\n",
        "if custom_image_path.is_dir():\n",
        "    print(f\"{custom_image_path} directory exists.\")\n",
        "else:\n",
        "    print(f\"Did not find {custom_image_path} directory, creating one...\")\n",
        "    custom_image_path.mkdir(parents=True, exist_ok=True)\n",
        "\n",
        "    # Download custom numbers images\n",
        "    with open(data_path / \"custom_images.zip\", \"wb\") as f:\n",
        "        request = requests.get(\"https://github.com/Andresmup/ArchivosDataScience/raw/main/custom_images.zip\")\n",
        "        print(\"Downloading custom numbers images...\")\n",
        "        f.write(request.content)\n",
        "\n",
        "    # Unzip custom numbers images\n",
        "    with zipfile.ZipFile(data_path / \"custom_images.zip\", \"r\") as zip_ref:\n",
        "        print(\"Unzipping custom numbers images...\")\n",
        "        zip_ref.extractall(data_path)\n"
      ],
      "metadata": {
        "colab": {
          "base_uri": "https://localhost:8080/"
        },
        "id": "QvOvBUbAVnc0",
        "outputId": "0054d424-6e2f-4330-d9cc-35f1a8b71b2a"
      },
      "execution_count": null,
      "outputs": [
        {
          "output_type": "stream",
          "name": "stdout",
          "text": [
            "data/custom_images directory exists.\n"
          ]
        }
      ]
    },
    {
      "cell_type": "markdown",
      "source": [
        "#ANÁLISIS EXPLORATORIO DE DATOS (EDA)"
      ],
      "metadata": {
        "id": "bZHKAeYZrOhs"
      }
    },
    {
      "cell_type": "markdown",
      "source": [
        "A continuación se visualizara una imagen del dataset MNIST, ademas de conocer cual es tamaño de dichas imagenes; las cuales son de 28x28, por lo que mas adelante se usara dicho valor."
      ],
      "metadata": {
        "id": "ZpSsIo4nR6vC"
      }
    },
    {
      "cell_type": "code",
      "source": [
        "#Separe image from label\n",
        "image, label = train_data[0]\n",
        "#Show size\n",
        "image.size()"
      ],
      "metadata": {
        "colab": {
          "base_uri": "https://localhost:8080/"
        },
        "id": "1U4_gYxdiLkJ",
        "outputId": "e22d4d68-0d96-45e3-c5ff-801118119022"
      },
      "execution_count": null,
      "outputs": [
        {
          "output_type": "execute_result",
          "data": {
            "text/plain": [
              "torch.Size([1, 28, 28])"
            ]
          },
          "metadata": {},
          "execution_count": 9
        }
      ]
    },
    {
      "cell_type": "code",
      "source": [
        "#Show image, permutation need tensors are [color_channels, height, width] -> matplotlib use [height, width, color_channels]\n",
        "plt.imshow(image.permute(1, 2, 0), cmap=\"gray\")"
      ],
      "metadata": {
        "colab": {
          "base_uri": "https://localhost:8080/",
          "height": 447
        },
        "id": "ew7yUSan7ttz",
        "outputId": "1dd8d008-e3b9-4c7e-efa6-494d4c244d83"
      },
      "execution_count": null,
      "outputs": [
        {
          "output_type": "execute_result",
          "data": {
            "text/plain": [
              "<matplotlib.image.AxesImage at 0x7dee50a80280>"
            ]
          },
          "metadata": {},
          "execution_count": 10
        },
        {
          "output_type": "display_data",
          "data": {
            "text/plain": [
              "<Figure size 640x480 with 1 Axes>"
            ],
            "image/png": "[encoded data removed]"
          },
          "metadata": {}
        }
      ]
    },
    {
      "cell_type": "markdown",
      "source": [
        "Por otro lado es importante saber cuales son las etiquetas de las imagenes. Por lo que se revisan."
      ],
      "metadata": {
        "id": "PwssOx8CSU03"
      }
    },
    {
      "cell_type": "code",
      "source": [
        "class_names = train_data.classes\n",
        "class_names"
      ],
      "metadata": {
        "colab": {
          "base_uri": "https://localhost:8080/"
        },
        "id": "ZkMuLTxUfN3T",
        "outputId": "7a3e50fd-7418-4362-857d-fe426269de57"
      },
      "execution_count": null,
      "outputs": [
        {
          "output_type": "execute_result",
          "data": {
            "text/plain": [
              "['0 - zero',\n",
              " '1 - one',\n",
              " '2 - two',\n",
              " '3 - three',\n",
              " '4 - four',\n",
              " '5 - five',\n",
              " '6 - six',\n",
              " '7 - seven',\n",
              " '8 - eight',\n",
              " '9 - nine']"
            ]
          },
          "metadata": {},
          "execution_count": 11
        }
      ]
    },
    {
      "cell_type": "markdown",
      "source": [
        "Ademas conocer sus repectivos indices, en este caso corresponden a su numeración. Es decir, hay 10 etiquetas o clases posibles, del 0 al 9 cada una representa el numero que es dicha imagen."
      ],
      "metadata": {
        "id": "zkilaH96SiAB"
      }
    },
    {
      "cell_type": "code",
      "source": [
        "class_with_index= train_data.class_to_idx\n",
        "class_with_index"
      ],
      "metadata": {
        "colab": {
          "base_uri": "https://localhost:8080/"
        },
        "id": "EtxbwTYgeV5a",
        "outputId": "57ab7814-49fa-45a3-b1ed-accb12a0ef64"
      },
      "execution_count": null,
      "outputs": [
        {
          "output_type": "execute_result",
          "data": {
            "text/plain": [
              "{'0 - zero': 0,\n",
              " '1 - one': 1,\n",
              " '2 - two': 2,\n",
              " '3 - three': 3,\n",
              " '4 - four': 4,\n",
              " '5 - five': 5,\n",
              " '6 - six': 6,\n",
              " '7 - seven': 7,\n",
              " '8 - eight': 8,\n",
              " '9 - nine': 9}"
            ]
          },
          "metadata": {},
          "execution_count": 12
        }
      ]
    },
    {
      "cell_type": "markdown",
      "source": [
        "A continuación se grafican 16 imagenes aleatorias del dataset con sus respectivas etiquetas y tamaño. Como parte a destacar se debe recordar que los tensores estan guardados con la estructura (c, h, w), es decir, canal del color, alto y ancho. Mientras que para gráficar una imagen con matplotlib se debe usar el orden (h, w, c); por lo que se debera permutar el orden del tensor para esto."
      ],
      "metadata": {
        "id": "o5uoHYHcTGTb"
      }
    },
    {
      "cell_type": "code",
      "source": [
        "#1. Create a function to take in a sample from the dataset\n",
        "def display_random_images(dataset: torch.utils.data.Dataset,\n",
        "                          classes: List[str] = None,\n",
        "                          display_shape: bool = True,\n",
        "                          seed: int = None):\n",
        "  '''\n",
        "\n",
        "  Function to display a random selection of images from a PyTorch dataset.\n",
        "  The function plots a 4x4 grid of randomly chosen samples, with optional class labels and image shape information.\n",
        "  Parameters:\n",
        "  - dataset: PyTorch dataset containing the image data.\n",
        "  - classes: List of class names (optional) for displaying class labels.\n",
        "  - display_shape: Boolean indicating whether to display the shape of each image tensor (default is True).\n",
        "  - seed: Optional seed for reproducibility in randomly selecting samples.\n",
        "  Example:\n",
        "  - display_random_images(my_dataset, classes=my_class_names, display_shape=True, seed=42)\n",
        "\n",
        "  '''\n",
        "  #2. Plot 4 by 4\n",
        "  rows, cols = 4, 4\n",
        "  n = 16\n",
        "  seed = 42\n",
        "  # 3. Set random seed\n",
        "  if seed:\n",
        "    random.seed(seed)\n",
        "  # 4. Get random sample indexes\n",
        "  random_samples_idx = random.sample(range(len(dataset)), k=n)\n",
        "  #5. Setup plot\n",
        "  plt.figure(figsize=(16,8))\n",
        "  # 6. Loop through samples and display random samples\n",
        "  for i, targ_sample in enumerate(random_samples_idx):\n",
        "    # All the samples in our targ_sample are in tuples\n",
        "    targ_image, targ_label = dataset[targ_sample][0], dataset[targ_sample][1]\n",
        "\n",
        "    # Adjust image tensor shape for plotting: [color_channels, height, width] -> [height, width, color_channels]\n",
        "    targ_image_adjust = targ_image.permute(1, 2, 0)\n",
        "\n",
        "    # Plot adjusted samples\n",
        "    plt.subplot(rows, cols, i + 1)\n",
        "    plt.imshow(targ_image_adjust, cmap=\"gray\")\n",
        "    plt.axis(\"off\")\n",
        "    if classes:\n",
        "      title = f\"class: {classes[targ_label]}\"\n",
        "      # Optionally display the shape of the image tensor\n",
        "      if display_shape:\n",
        "        title = title + f\"\\nshape: {targ_image_adjust.shape}\"\n",
        "        plt.title(title)\n",
        "\n",
        "  plt.tight_layout()\n",
        "  plt.show()"
      ],
      "metadata": {
        "id": "_GJuhbDUfsqG"
      },
      "execution_count": null,
      "outputs": []
    },
    {
      "cell_type": "code",
      "source": [
        "#Plot random images\n",
        "display_random_images(train_data,\n",
        "                      classes=class_names,\n",
        "                      seed=42)"
      ],
      "metadata": {
        "colab": {
          "base_uri": "https://localhost:8080/",
          "height": 806
        },
        "id": "S9Xe9H-TgkvG",
        "outputId": "581bcf43-7412-4640-e373-40b1e9b15f7c"
      },
      "execution_count": null,
      "outputs": [
        {
          "output_type": "display_data",
          "data": {
            "text/plain": [
              "<Figure size 1600x800 with 16 Axes>"
            ],
            "image/png": "[encoded data removed]"
          },
          "metadata": {}
        }
      ]
    },
    {
      "cell_type": "markdown",
      "source": [
        "#PREPARACIÓN DE DATOS PARA ENTRENAMIENTO Y TEST"
      ],
      "metadata": {
        "id": "zU3D6u-XrZNL"
      }
    },
    {
      "cell_type": "markdown",
      "source": [
        "Para poder realizar el entrenamiento y testeo; se utilizara un sistema de lotes. El cual mejora el rendimiento y la velocidad; ademas evitara que se sature la memoria. Ya que en este caso cada lote tendra 32 imagenes como máximo, lo cual no supondra un problema para ningun hardware."
      ],
      "metadata": {
        "id": "woW6T99eVCdD"
      }
    },
    {
      "cell_type": "code",
      "source": [
        "#Define batch size\n",
        "BATCH_SIZE = 32\n",
        "\n",
        "#Define train and test dataloader\n",
        "train_dataloader = torch.utils.data.DataLoader(dataset = train_data, batch_size=BATCH_SIZE,shuffle = True) #We want to shuffle the train data.\n",
        "test_dataloader = torch.utils.data.DataLoader(dataset = test_data, batch_size=BATCH_SIZE,shuffle = np.False_)"
      ],
      "metadata": {
        "id": "sXl8Q2ACenPD"
      },
      "execution_count": null,
      "outputs": []
    },
    {
      "cell_type": "markdown",
      "source": [
        "#CREACIÓN MODELO"
      ],
      "metadata": {
        "id": "-QQkTiPZrmFa"
      }
    },
    {
      "cell_type": "markdown",
      "source": [
        "Al utilizar CUDA con PyTorch, se puede aprovechar las GPU compatibles con CUDA para acelerar significativamente el entrenamiento y la inferencia de modelos de aprendizaje profundo. Por lo se define a cuda como dispositivo en caso de estar disponible."
      ],
      "metadata": {
        "id": "CFyvyApWV5m1"
      }
    },
    {
      "cell_type": "code",
      "source": [
        "#Make device agnostic code\n",
        "device = \"cuda\" if torch.cuda.is_available() else \"cpu\"\n",
        "device"
      ],
      "metadata": {
        "colab": {
          "base_uri": "https://localhost:8080/",
          "height": 35
        },
        "id": "AFX-CH2KesYj",
        "outputId": "e4153fa1-28a8-4bb2-fc36-d0e6b0ff2953"
      },
      "execution_count": null,
      "outputs": [
        {
          "output_type": "execute_result",
          "data": {
            "text/plain": [
              "'cuda'"
            ],
            "application/vnd.google.colaboratory.intrinsic+json": {
              "type": "string"
            }
          },
          "metadata": {},
          "execution_count": 16
        }
      ]
    },
    {
      "cell_type": "markdown",
      "source": [
        "Para este proyecto se utiliza un mini version de la arquitectura VGG. La cual se divide en dos partes principales:\n",
        "* Una sección de feature extraction que en este caso es de dos bloques. Cada uno consta de 2 Conv2d layers, intercalados con funciones ReLU y MaxPool2d.\n",
        "* Sección classifier, esta consta de un modulo Linear predecido de uno Flatten."
      ],
      "metadata": {
        "id": "dzs53Fi3Wes_"
      }
    },
    {
      "cell_type": "code",
      "source": [
        "class TinyVGGV0(nn.Module):\n",
        "  '''\n",
        "  Definition of a TinyVGGV0 neural network model using PyTorch's nn.Module.\n",
        "  This model consists of two convolutional blocks for feature extraction followed by a classifier layer.\n",
        "  Parameters:\n",
        "   - input_shape: Number of input channels (e.g., 3 for RGB images).\n",
        "   - hidden_units: Number of channels in the convolutional layers.\n",
        "   - output_shape: Number of output classes.\n",
        "  Architecture:\n",
        "   - 1st Convolutional Block (FEATURE EXTRACTOR):\n",
        "       - Two Conv2d layers with ReLU activation followed by MaxPool2d layer.\n",
        "   - 2nd Convolutional Block (FEATURE EXTRACTOR):\n",
        "       - Two Conv2d layers with ReLU activation followed by MaxPool2d layer.\n",
        "   - Classifier Block:\n",
        "       - Flatten the output into a single feature vector.\n",
        "       - Linear layer mapping to the output shape.\n",
        "  Forward Method:\n",
        "   - Applies the convolutional blocks and classifier sequentially to the input.\n",
        "  Example:\n",
        "   - model = TinyVGGV0(input_shape=3, hidden_units=64, output_shape=10)\n",
        "   - output = model(input_tensor)\n",
        "  '''\n",
        "  def __init__(self, input_shape: int, hidden_units: int, output_shape: int):\n",
        "        super().__init__()\n",
        "        #Create 1st convolutional block -> FEATURE EXTRACTER\n",
        "        self.conv_block_1 = nn.Sequential(\n",
        "            #Conv2d for 2d data (images)\n",
        "            nn.Conv2d(in_channels=input_shape, #same as input shape before\n",
        "                      out_channels=hidden_units, #same as output shape before\n",
        "                      kernel_size=3, #Hiperparameter the most commonly used approach is zero-padding because of its performance, simplicity, and computational efficiency.\n",
        "                                    #Relation bewteen input_shape and output_shape per sub divition. k=1 6x6->6x6; k=2 6x6->5x5\n",
        "                      stride=1, #Hiperparameter controls the stride for the cross-correlation, a single number or a tuple\n",
        "                                #The impact stride has on a CNN is similar to kernel size. As stride is decreased, more features are learned because more data is extracted, which also leads to larger output layers. On the contrary, as stride is increased, this leads to more limited feature extraction and smaller output layer dimensions.\n",
        "                      padding=0), #Hiperparameter / Value of the padding -> Padding conserves data at the borders of activation maps, which leads to better performance, and it can help preserve the input's spatial size, which allows an architecture designer to build deeper, higher performing networks\n",
        "                                  #the most commonly used approach is zero-padding because of its performance, simplicity, and computational efficiency.\n",
        "            nn.ReLU(), #Add relu layer\n",
        "            #Add another conv2d layer with the input equal to the hidden units. In this case same hiperparameters\n",
        "            nn.Conv2d(in_channels=hidden_units,\n",
        "                      out_channels=hidden_units,\n",
        "                      kernel_size=3,\n",
        "                      stride=1,\n",
        "                      padding=0),\n",
        "            nn.ReLU(), #Add relu layer\n",
        "            nn.MaxPool2d(kernel_size=2)) #Add MaxPool2d layer takes the max from the imput matrix and return the max of all those. Reduce the output shape into half (60,60) -> (30,30)\n",
        "        #Create 2st convolutional block -> FEATURE EXTRACTER\n",
        "        self.conv_block_2 = nn.Sequential(\n",
        "            nn.Conv2d(in_channels=hidden_units,\n",
        "                      out_channels=hidden_units,\n",
        "                      kernel_size=3,\n",
        "                      stride=1,\n",
        "                      padding=0),\n",
        "            nn.ReLU(),\n",
        "            nn.Conv2d(in_channels=hidden_units,\n",
        "                      out_channels=hidden_units,\n",
        "                      kernel_size=3,\n",
        "                      stride=1,\n",
        "                      padding=0),\n",
        "            nn.ReLU(),\n",
        "            nn.MaxPool2d(kernel_size=2))\n",
        "        #Create last block, classifies block -> CLASSIFIER LAYER, TAKE THE FEATURES AND SET THE INTO THE OUTPUT LABELS\n",
        "        self.classifier = nn.Sequential(\n",
        "            nn.Flatten(), #Flatten the output into a single feature vector\n",
        "            nn.Linear(in_features=hidden_units*4*4, #multiplication for 16 to match dimension\n",
        "                      out_features=output_shape),\n",
        "            )\n",
        "\n",
        "  def forward(self, x): #x -> conv_block_1 -> conv_block_2 -> classifier -> return(x)\n",
        "    return self.classifier(self.conv_block_2(self.conv_block_1(x)))"
      ],
      "metadata": {
        "id": "4Ufu7CaUfCdr"
      },
      "execution_count": null,
      "outputs": []
    },
    {
      "cell_type": "markdown",
      "source": [
        "Este modelo consta usar input shape 1, esto es debido a que las imagenes son en blanco y negro por lo que el canal de color es 1.\n",
        "Se usara un numero de hidden units 16, ya que permitira buena precisión sin ralentizar el algoritmo.\n",
        "Por ultimo se define como el output shape al tamaño o numero de clases que hay para nuestro dataset. El cual es 10, ya que va del 0 al 9."
      ],
      "metadata": {
        "id": "A-Je7IpKYi6I"
      }
    },
    {
      "cell_type": "code",
      "source": [
        "#Set seed\n",
        "torch.manual_seed(45)\n",
        "#instantiate the tinyvgg model\n",
        "model_0 = TinyVGGV0(input_shape=1, #number of color channels in our image data\n",
        "                    hidden_units=16, #number of hidden units\n",
        "                    output_shape=len(class_names) #number of outputs\n",
        "                    ).to(device) #send to device"
      ],
      "metadata": {
        "id": "tNpBKCrKjxmO"
      },
      "execution_count": null,
      "outputs": []
    },
    {
      "cell_type": "markdown",
      "source": [
        "A continuación podemos se observa la cantidad de parametros y tamaño para cada una de las secciones.\n",
        "El tamaño del modelo es de 0.22Mb por lo que cumple con la premisa de tamaño reducido."
      ],
      "metadata": {
        "id": "qqbUF1yCZSzu"
      }
    },
    {
      "cell_type": "code",
      "source": [
        "#See sumary, input size must be equal to actual input size\n",
        "summary(model_0, input_size=(1, 1, 28, 28))"
      ],
      "metadata": {
        "colab": {
          "base_uri": "https://localhost:8080/"
        },
        "id": "QIYTnsCIjt7m",
        "outputId": "b5425ec1-28e2-4d43-b4e4-7e56660f7667"
      },
      "execution_count": null,
      "outputs": [
        {
          "output_type": "execute_result",
          "data": {
            "text/plain": [
              "==========================================================================================\n",
              "Layer (type:depth-idx)                   Output Shape              Param #\n",
              "==========================================================================================\n",
              "TinyVGGV0                                [1, 10]                   --\n",
              "├─Sequential: 1-1                        [1, 16, 12, 12]           --\n",
              "│    └─Conv2d: 2-1                       [1, 16, 26, 26]           160\n",
              "│    └─ReLU: 2-2                         [1, 16, 26, 26]           --\n",
              "│    └─Conv2d: 2-3                       [1, 16, 24, 24]           2,320\n",
              "│    └─ReLU: 2-4                         [1, 16, 24, 24]           --\n",
              "│    └─MaxPool2d: 2-5                    [1, 16, 12, 12]           --\n",
              "├─Sequential: 1-2                        [1, 16, 4, 4]             --\n",
              "│    └─Conv2d: 2-6                       [1, 16, 10, 10]           2,320\n",
              "│    └─ReLU: 2-7                         [1, 16, 10, 10]           --\n",
              "│    └─Conv2d: 2-8                       [1, 16, 8, 8]             2,320\n",
              "│    └─ReLU: 2-9                         [1, 16, 8, 8]             --\n",
              "│    └─MaxPool2d: 2-10                   [1, 16, 4, 4]             --\n",
              "├─Sequential: 1-3                        [1, 10]                   --\n",
              "│    └─Flatten: 2-11                     [1, 256]                  --\n",
              "│    └─Linear: 2-12                      [1, 10]                   2,570\n",
              "==========================================================================================\n",
              "Total params: 9,690\n",
              "Trainable params: 9,690\n",
              "Non-trainable params: 0\n",
              "Total mult-adds (M): 1.83\n",
              "==========================================================================================\n",
              "Input size (MB): 0.00\n",
              "Forward/backward pass size (MB): 0.18\n",
              "Params size (MB): 0.04\n",
              "Estimated Total Size (MB): 0.22\n",
              "=========================================================================================="
            ]
          },
          "metadata": {},
          "execution_count": 20
        }
      ]
    },
    {
      "cell_type": "markdown",
      "source": [
        "#TRAIN AND TEST MODELO"
      ],
      "metadata": {
        "id": "OnT6JiKssGxw"
      }
    },
    {
      "cell_type": "markdown",
      "source": [
        "Se definen dos funciones, cada una para la etapa de entrenamiento y testeo del modelo. Dichas funciones retornaran la perdida (loss) y la exactitud (accuracy)."
      ],
      "metadata": {
        "id": "9YAIBJluauyC"
      }
    },
    {
      "cell_type": "code",
      "source": [
        "def train_step(model: torch.nn.Module,\n",
        "               dataloader: torch.utils.data.DataLoader,\n",
        "               loss_fn: torch.nn.Module,\n",
        "               optimizer: torch.optim.Optimizer):\n",
        "  '''\n",
        "  Function to perform a training step for a PyTorch model.\n",
        "  This function executes a single training iteration on the provided data using the specified loss function and optimizer.\n",
        "  Parameters:\n",
        "    - model: PyTorch neural network model.\n",
        "    - dataloader: PyTorch DataLoader providing the training data.\n",
        "    - loss_fn: PyTorch loss function to calculate the training loss.\n",
        "    - optimizer: PyTorch optimizer for updating model parameters.\n",
        "  Behavior:\n",
        "    - Puts the model in train mode.\n",
        "    - Iterates through batches in the dataloader:\n",
        "      1. Performs a forward pass to obtain predictions.\n",
        "      2. Calculates and accumulates the loss.\n",
        "      3. Zeroes the gradients, performs backward pass, and updates model parameters.\n",
        "      4. Accumulates accuracy metric.\n",
        "    - Calculates average loss and accuracy per batch.\n",
        "  Returns:\n",
        "    - Tuple containing the average training loss and accuracy.\n",
        "  Example:\n",
        "    train_loss, train_acc = train_step(my_model, train_dataloader, my_loss_function, my_optimizer)\n",
        "  '''\n",
        "    # Put model in train mode\n",
        "    model.train()\n",
        "\n",
        "    # Setup train loss and train accuracy values\n",
        "    train_loss, train_acc = 0, 0\n",
        "\n",
        "    # Loop through data loader data batches\n",
        "    for batch, (X, y) in enumerate(dataloader):\n",
        "        # Send data to target device\n",
        "        X, y = X.to(device), y.to(device)\n",
        "\n",
        "        # 1. Forward pass\n",
        "        y_pred = model(X)\n",
        "\n",
        "        # 2. Calculate  and accumulate loss\n",
        "        loss = loss_fn(y_pred, y)\n",
        "        train_loss += loss.item()\n",
        "\n",
        "        # 3. Optimizer zero grad\n",
        "        optimizer.zero_grad()\n",
        "\n",
        "        # 4. Loss backward\n",
        "        loss.backward()\n",
        "\n",
        "        # 5. Optimizer step\n",
        "        optimizer.step()\n",
        "\n",
        "        # Calculate and accumulate accuracy metric across all batches\n",
        "        y_pred_class = torch.argmax(torch.softmax(y_pred, dim=1), dim=1)\n",
        "        train_acc += (y_pred_class == y).sum().item()/len(y_pred)\n",
        "\n",
        "    # Adjust metrics to get average loss and accuracy per batch\n",
        "    train_loss = train_loss / len(dataloader)\n",
        "    train_acc = train_acc / len(dataloader)\n",
        "    return train_loss, train_acc"
      ],
      "metadata": {
        "id": "ih23jT1ZlPe9"
      },
      "execution_count": null,
      "outputs": []
    },
    {
      "cell_type": "code",
      "source": [
        "def test_step(model: torch.nn.Module,\n",
        "              dataloader: torch.utils.data.DataLoader,\n",
        "              loss_fn: torch.nn.Module):\n",
        "  '''\n",
        "  Function to perform a testing step for a PyTorch model.\n",
        "  This function evaluates the model's performance on the provided test data using the specified loss function.\n",
        "  Parameters:\n",
        "    - model: PyTorch neural network model.\n",
        "    - dataloader: PyTorch DataLoader providing the test data.\n",
        "    - loss_fn: PyTorch loss function to calculate the test loss.\n",
        "  Behavior:\n",
        "    - Puts the model in evaluation (eval) mode.\n",
        "    - Iterates through batches in the dataloader:\n",
        "      1. Performs a forward pass to obtain predictions.\n",
        "      2. Calculates and accumulates the loss.\n",
        "      3. Calculates and accumulates accuracy.\n",
        "    - Calculates average loss and accuracy per batch.\n",
        "  Returns:\n",
        "    - Tuple containing the average test loss and accuracy.\n",
        "  Example:\n",
        "    test_loss, test_acc = test_step(my_model, test_dataloader, my_loss_function)\n",
        "  '''\n",
        "\n",
        "    # Put model in eval mode\n",
        "    model.eval()\n",
        "    # Setup test loss and test accuracy values\n",
        "    test_loss, test_acc = 0, 0\n",
        "\n",
        "    # Turn on inference context manager\n",
        "    with torch.inference_mode():\n",
        "        # Loop through DataLoader batches\n",
        "        for batch, (X, y) in enumerate(dataloader):\n",
        "          # Send data to target device\n",
        "          X, y = X.to(device), y.to(device)\n",
        "\n",
        "          # 1. Forward pass\n",
        "          test_pred_logits = model(X)\n",
        "\n",
        "\n",
        "          # 2. Calculate and accumulate loss\n",
        "          loss = loss_fn(test_pred_logits, y)\n",
        "          test_loss += loss.item()\n",
        "\n",
        "          # Calculate and accumulate accuracy\n",
        "          test_pred_labels = test_pred_logits.argmax(dim=1)\n",
        "          test_acc += ((test_pred_labels == y).sum().item()/len(test_pred_labels))\n",
        "\n",
        "    # Adjust metrics to get average loss and accuracy per batch\n",
        "    test_loss = test_loss / len(dataloader)\n",
        "    test_acc = test_acc / len(dataloader)\n",
        "    return test_loss, test_acc"
      ],
      "metadata": {
        "id": "xIpGvOcElR4d"
      },
      "execution_count": null,
      "outputs": []
    },
    {
      "cell_type": "markdown",
      "source": [
        "Se define una funcion entrenamiento. Esta función imprimira la función de perdida y la exactitud del proceso. Lo cual permite poder realizar un analisis de nuestro modelo para cada una de las pasadas de nuestro modelo."
      ],
      "metadata": {
        "id": "Bvnq77eBbHYk"
      }
    },
    {
      "cell_type": "code",
      "source": [
        "#1. Define function\n",
        "def train(model: torch.nn.Module,\n",
        "          train_dataloader: torch.utils.data.DataLoader,\n",
        "          test_dataloader: torch.utils.data.DataLoader,\n",
        "          optimizer: torch.optim.Optimizer,\n",
        "          loss_fn: torch.nn.Module = nn.CrossEntropyLoss(),\n",
        "          epochs: int = 5):\n",
        "  '''\n",
        "  Function to train a PyTorch neural network model over a specified number of epochs.\n",
        "  This function performs training and testing steps, updating the model parameters, and collecting performance metrics.\n",
        "  Parameters:\n",
        "    - model: PyTorch neural network model to be trained.\n",
        "    - train_dataloader: PyTorch DataLoader providing the training data.\n",
        "    - test_dataloader: PyTorch DataLoader providing the test data.\n",
        "    - optimizer: PyTorch optimizer for updating model parameters.\n",
        "    - loss_fn: PyTorch loss function to calculate both training and test losses (default is CrossEntropyLoss).\n",
        "    - epochs: Number of training epochs (default is 5).\n",
        "  Returns:\n",
        "    - Dictionary containing lists of training and test losses, as well as training and test accuracies at each epoch.\n",
        "  Example:\n",
        "    training_results = train(my_model, train_dataloader, test_dataloader, my_optimizer, my_loss_function, epochs=10)\n",
        "  '''\n",
        "    # 2. Create empty results dictionary\n",
        "    results = {\"train_loss\": [],\n",
        "        \"train_acc\": [],\n",
        "        \"test_loss\": [],\n",
        "        \"test_acc\": []\n",
        "    }\n",
        "\n",
        "    # 3. Loop through training and testing steps for a number of epochs\n",
        "    for epoch in tqdm(range(epochs)):\n",
        "        train_loss, train_acc = train_step(model=model,\n",
        "                                           dataloader=train_dataloader,\n",
        "                                           loss_fn=loss_fn,\n",
        "                                           optimizer=optimizer)\n",
        "        test_loss, test_acc = test_step(model=model,\n",
        "            dataloader=test_dataloader,\n",
        "            loss_fn=loss_fn)\n",
        "\n",
        "        # 4. Print out what's happening\n",
        "        print(\n",
        "            f\"Epoch: {epoch+1} | \"\n",
        "            f\"train_loss: {train_loss:.4f} | \"\n",
        "            f\"train_acc: {train_acc:.4f} | \"\n",
        "            f\"test_loss: {test_loss:.4f} | \"\n",
        "            f\"test_acc: {test_acc:.4f}\"\n",
        "        )\n",
        "\n",
        "        # 5. Update results dictionary\n",
        "        results[\"train_loss\"].append(train_loss)\n",
        "        results[\"train_acc\"].append(train_acc)\n",
        "        results[\"test_loss\"].append(test_loss)\n",
        "        results[\"test_acc\"].append(test_acc)\n",
        "\n",
        "    # 6. Return the filled results at the end of the epochs\n",
        "    return results"
      ],
      "metadata": {
        "id": "2Kg0ZIqgl2X_"
      },
      "execution_count": null,
      "outputs": []
    },
    {
      "cell_type": "markdown",
      "source": [
        "Para este caso se realizan 10 pasadas. Ademas se incluye un conteo del tiempo para poder realizar un analis de la velocidad."
      ],
      "metadata": {
        "id": "4dZzaSkwbo0H"
      }
    },
    {
      "cell_type": "code",
      "source": [
        "# Set random seeds\n",
        "torch.manual_seed(42)\n",
        "torch.cuda.manual_seed(42)\n",
        "\n",
        "# Set number of epochs\n",
        "NUM_EPOCHS = 10\n",
        "\n",
        "# Recreate an instance of TinyVGG\n",
        "model_0 = TinyVGGV0(input_shape=1, # number of color channels (1 for black and white)\n",
        "                  hidden_units=16, # hidden units\n",
        "                  output_shape=len(train_data.classes)).to(device) #number of classes in this case is 10\n",
        "\n",
        "# Setup loss function and optimizer\n",
        "loss_fn = nn.CrossEntropyLoss()\n",
        "\n",
        "# Setup optimizer, we use Adam\n",
        "optimizer = torch.optim.Adam(params=model_0.parameters(), lr=0.001)\n",
        "\n",
        "# Start the timer\n",
        "start_time = timer()\n",
        "\n",
        "# Train model_0\n",
        "model_0_results_E5 = train(model=model_0,\n",
        "                        train_dataloader=train_dataloader,\n",
        "                        test_dataloader=test_dataloader,\n",
        "                        optimizer=optimizer,\n",
        "                        loss_fn=loss_fn,\n",
        "                        epochs=NUM_EPOCHS)\n",
        "\n",
        "# End the timer and print out how long it took\n",
        "end_time = timer()\n",
        "print(f\"Total training time: {end_time-start_time:.3f} seconds\")"
      ],
      "metadata": {
        "colab": {
          "base_uri": "https://localhost:8080/",
          "height": 240,
          "referenced_widgets": [
            "4eacdff33ee14772b9622a0c7a3672a5",
            "297cbd8dbcfe4ce8914b81ea8443b947",
            "5b955e7ff29b456a84982389a8d25d46",
            "53debd3a76cf4448b3379cff8495b515",
            "0500b08d456e434abbee16a242ed6ba9",
            "71db4be7c876421f965583797d171efe",
            "b9713cee4c0b4f13859f81cd07c31239",
            "d20a4105ba904470a173811e9e0ef7f4",
            "656a6ea3091047d78ff5f437262319b0",
            "0ed3d0facaad451cb196305623703f9d",
            "6c13683bb8fe4a478b9e57a552d018dc"
          ]
        },
        "id": "qW6vLyy6lvfN",
        "outputId": "c1bb8e05-d983-4550-92d8-37c7f7c59a0a"
      },
      "execution_count": null,
      "outputs": [
        {
          "output_type": "display_data",
          "data": {
            "text/plain": [
              "  0%|          | 0/10 [00:00<?, ?it/s]"
            ],
            "application/vnd.jupyter.widget-view+json": {
              "version_major": 2,
              "version_minor": 0,
              "model_id": "4eacdff33ee14772b9622a0c7a3672a5"
            }
          },
          "metadata": {}
        },
        {
          "output_type": "stream",
          "name": "stdout",
          "text": [
            "Epoch: 1 | train_loss: 0.2245 | train_acc: 0.9291 | test_loss: 0.0699 | test_acc: 0.9774\n",
            "Epoch: 2 | train_loss: 0.0726 | train_acc: 0.9771 | test_loss: 0.0534 | test_acc: 0.9829\n",
            "Epoch: 3 | train_loss: 0.0537 | train_acc: 0.9831 | test_loss: 0.0442 | test_acc: 0.9862\n",
            "Epoch: 4 | train_loss: 0.0429 | train_acc: 0.9868 | test_loss: 0.0373 | test_acc: 0.9877\n",
            "Epoch: 5 | train_loss: 0.0378 | train_acc: 0.9881 | test_loss: 0.0353 | test_acc: 0.9883\n",
            "Epoch: 6 | train_loss: 0.0316 | train_acc: 0.9899 | test_loss: 0.0428 | test_acc: 0.9857\n",
            "Epoch: 7 | train_loss: 0.0286 | train_acc: 0.9907 | test_loss: 0.0347 | test_acc: 0.9890\n",
            "Epoch: 8 | train_loss: 0.0258 | train_acc: 0.9917 | test_loss: 0.0319 | test_acc: 0.9893\n",
            "Epoch: 9 | train_loss: 0.0228 | train_acc: 0.9925 | test_loss: 0.0335 | test_acc: 0.9887\n",
            "Epoch: 10 | train_loss: 0.0209 | train_acc: 0.9932 | test_loss: 0.0331 | test_acc: 0.9893\n",
            "Total training time: 155.075 seconds\n"
          ]
        }
      ]
    },
    {
      "cell_type": "markdown",
      "source": [
        "En este caso el modelo TinyVGG es capaz de obtener valores de loss muy bajos, y un accuracy bastante bueno.\n",
        "Tanto en la sección de imagenes de entrenamiento como en la de testeo. Se observa que cada una de las pasadas fue mejorando dichos valores.\n",
        "Ademas el dicha tarea tardó solo 155 segundos, lo cual es un tiempo aceptable considerando que esta se realizó en google colab utilizando un gpu T4."
      ],
      "metadata": {
        "id": "TgyGv6J9dAur"
      }
    },
    {
      "cell_type": "markdown",
      "source": [
        "#PREDICCIÓN MINI SET ALEATORIO"
      ],
      "metadata": {
        "id": "xXG2K4BPsuCo"
      }
    },
    {
      "cell_type": "markdown",
      "source": [
        "Una vez entrenado nuestro modelo se realiza una prueba de predicción utilizando imagenes aleatorias del dataset MNIST. Para esto se crea una función make_predictions."
      ],
      "metadata": {
        "id": "PYnr6zk0eIP5"
      }
    },
    {
      "cell_type": "code",
      "source": [
        "def make_predictions(model: torch.nn.Module, data: list, device: torch.device = device):\n",
        "\n",
        "  '''\n",
        "  Function to make predictions using a trained PyTorch neural network model on a given set of data.\n",
        "  This function takes a list of data samples, performs inference using the model, and returns the predicted probabilities.\n",
        "  Parameters:\n",
        "    - model: PyTorch neural network model for making predictions.\n",
        "    - data: List of data samples to be used for prediction.\n",
        "    - device: PyTorch device where the model should perform inference (default is the device the model is currently on).\n",
        "  Returns:\n",
        "    - Tensor containing the predicted probabilities for each class for each input sample.\n",
        "  Example:\n",
        "    predictions = make_predictions(my_model, my_data)\n",
        "  '''\n",
        "    pred_probs = []\n",
        "    model.eval()\n",
        "    with torch.inference_mode():\n",
        "        for sample in data:\n",
        "            # Prepare sample\n",
        "            sample = torch.unsqueeze(sample, dim=0).to(device) # Add an extra dimension and send sample to device\n",
        "\n",
        "            # Forward pass (model outputs raw logit)\n",
        "            pred_logit = model(sample)\n",
        "\n",
        "            # Get prediction probability (logit -> prediction probability)\n",
        "            pred_prob = torch.softmax(pred_logit.squeeze(), dim=0) # note: perform softmax on the \"logits\" dimension, not \"batch\" dimension (in this case we have a batch size of 1, so can perform on dim=0)\n",
        "\n",
        "            # Get pred_prob off GPU for further calculations\n",
        "            pred_probs.append(pred_prob.cpu())\n",
        "\n",
        "    # Stack the pred_probs to turn list into a tensor\n",
        "    return torch.stack(pred_probs)"
      ],
      "metadata": {
        "id": "_LH2uKZkhAj4"
      },
      "execution_count": null,
      "outputs": []
    },
    {
      "cell_type": "markdown",
      "source": [
        "Se extraen 9 imagenes aleatorias con sus correspondientes etiquetas."
      ],
      "metadata": {
        "id": "7x5SC9ZZeV0x"
      }
    },
    {
      "cell_type": "code",
      "source": [
        "#Set seed\n",
        "random.seed(45)\n",
        "#Create empty list for samples and labels\n",
        "random_samples = []\n",
        "random_labels = []\n",
        "#Get the random data using for loop\n",
        "for sample, label in random.sample(list(test_data), k=9):\n",
        "    random_samples.append(sample)\n",
        "    random_labels.append(label)"
      ],
      "metadata": {
        "id": "X8Ml5zkusz5R"
      },
      "execution_count": null,
      "outputs": []
    },
    {
      "cell_type": "code",
      "source": [
        "#Make predictions\n",
        "random_pred_probs= make_predictions(model=model_0,\n",
        "                             data=random_samples)\n",
        "\n",
        "#Transform prediction probabilities -> predictions labels using argmax\n",
        "random_pred_classes = random_pred_probs.argmax(dim=1)"
      ],
      "metadata": {
        "id": "bYb1QW_Us8u2"
      },
      "execution_count": null,
      "outputs": []
    },
    {
      "cell_type": "code",
      "source": [
        "# Plot predictions\n",
        "plt.figure(figsize=(9, 9))\n",
        "nrows = 3\n",
        "ncols = 3\n",
        "for i, sample in enumerate(random_samples):\n",
        "  # Create a subplot\n",
        "  plt.subplot(nrows, ncols, i+1)\n",
        "\n",
        "  # Plot the target image\n",
        "  plt.imshow(sample.squeeze(), cmap=\"gray\")\n",
        "\n",
        "  # Find the prediction label (in text form, e.g. \"Sandal\")\n",
        "  pred_label = class_names[random_pred_classes[i]]\n",
        "\n",
        "  # Get the truth label (in text form, e.g. \"T-shirt\")\n",
        "  truth_label = class_names[random_labels[i]]\n",
        "\n",
        "  # Create the title text of the plot\n",
        "  title_text = f\"Pred: {pred_label} | Truth: {truth_label}\"\n",
        "\n",
        "  # Check for equality and change title colour accordingly\n",
        "  if pred_label == truth_label:\n",
        "      plt.title(title_text, fontsize=10, c=\"g\") # green text if correct\n",
        "  else:\n",
        "      plt.title(title_text, fontsize=10, c=\"r\") # red text if wrong\n",
        "  plt.axis(False);"
      ],
      "metadata": {
        "id": "CX3OXcfFtDWZ",
        "colab": {
          "base_uri": "https://localhost:8080/",
          "height": 749
        },
        "outputId": "ae060e46-c8f4-43b2-e076-2eefd4b1c737"
      },
      "execution_count": null,
      "outputs": [
        {
          "output_type": "display_data",
          "data": {
            "text/plain": [
              "<Figure size 900x900 with 9 Axes>"
            ],
            "image/png": "[encoded data removed]"
          },
          "metadata": {}
        }
      ]
    },
    {
      "cell_type": "markdown",
      "source": [
        "Como se observa el model fue capaz de predecir con exactitud que números representaban cada una de las imagenes."
      ],
      "metadata": {
        "id": "MvsvCd-Secpb"
      }
    },
    {
      "cell_type": "markdown",
      "source": [
        "#VISUALIZACIÓN IMAGEN CUSTOM FOLDER"
      ],
      "metadata": {
        "id": "IFOEd9oJPu2I"
      }
    },
    {
      "cell_type": "markdown",
      "source": [
        "En esta segunda parte del proyecto se pone el modelo a prueba contra imagenes que no forman parte del dataset MNIST.\n",
        "Primeramente se realiza una visualización para poder conocer como es el formato, tamaño y otras caracteristicas de las imagenes de números dibujadas descargadas."
      ],
      "metadata": {
        "id": "Buk_reXRettK"
      }
    },
    {
      "cell_type": "code",
      "source": [
        "# Set seed\n",
        "random.seed(42)\n",
        "\n",
        "# 1. Get all image paths (* means \"any combination\")\n",
        "custom_image_path_list = list(custom_image_path.glob(\"*/*.jpg\"))\n",
        "\n",
        "# 2. Get random image path\n",
        "custom_random_image_path = random.choice(custom_image_path_list)\n",
        "\n",
        "# 3. Get image class from path name (the image class is the name of the directory where the image is stored)\n",
        "custom_image_class = custom_random_image_path.parent.stem"
      ],
      "metadata": {
        "id": "EKA46M4xKO5x"
      },
      "execution_count": null,
      "outputs": []
    },
    {
      "cell_type": "code",
      "source": [
        "# 4. Open image\n",
        "img = Image.open(custom_random_image_path)\n",
        "\n",
        "# 5. Print metadata\n",
        "print(f\"Random image path: {custom_random_image_path}\")\n",
        "print(f\"Image class: {custom_image_class}\")\n",
        "print(f\"Image height: {img.height}\")\n",
        "print(f\"Image width: {img.width}\")\n",
        "#Plot image\n",
        "img"
      ],
      "metadata": {
        "colab": {
          "base_uri": "https://localhost:8080/",
          "height": 734
        },
        "id": "A85KZPrjLopw",
        "outputId": "0fdfcda2-d4ff-48e4-d80d-f21a93ee4445"
      },
      "execution_count": null,
      "outputs": [
        {
          "output_type": "stream",
          "name": "stdout",
          "text": [
            "Random image path: data/custom_images/8 - eight/8-0004.jpg\n",
            "Image class: 8 - eight\n",
            "Image height: 648\n",
            "Image width: 1152\n"
          ]
        },
        {
          "output_type": "execute_result",
          "data": {
            "text/plain": [
              "<PIL.JpegImagePlugin.JpegImageFile image mode=RGB size=1152x648>"
            ],
            "image/png": "[encoded data removed]"
          },
          "metadata": {},
          "execution_count": 30
        }
      ]
    },
    {
      "cell_type": "markdown",
      "source": [
        "Se observa que las imagenes tienen un tamaño diferente al del dataset MNIST. Por lo que se debera realizar un trabajo de pre procesado con las mismas."
      ],
      "metadata": {
        "id": "IJveMVxafOB_"
      }
    },
    {
      "cell_type": "markdown",
      "source": [
        "#REVISIÓN DATOS EN PATH"
      ],
      "metadata": {
        "id": "ZSzRYPjbQDR6"
      }
    },
    {
      "cell_type": "markdown",
      "source": [
        "Para comprender como estan almacenadas se revisa como estan guardadas."
      ],
      "metadata": {
        "id": "Fnq35lBXfkeu"
      }
    },
    {
      "cell_type": "code",
      "source": [
        "def walk_through_dir(dir_path):\n",
        "  \"\"\"\n",
        "  Walks through dir_path returning its contents.\n",
        "  Args:\n",
        "    dir_path (str or pathlib.Path): target directory\n",
        "\n",
        "  Returns:\n",
        "    A print out of:\n",
        "      number of subdiretories in dir_path\n",
        "      number of images (files) in each subdirectory\n",
        "      name of each subdirectory\n",
        "  \"\"\"\n",
        "  for dirpath, dirnames, filenames in os.walk(dir_path):\n",
        "    print(f\"There are {len(dirnames)} directories and {len(filenames)} images in '{dirpath}'.\")"
      ],
      "metadata": {
        "id": "NLmVPgyTJnKr"
      },
      "execution_count": null,
      "outputs": []
    },
    {
      "cell_type": "code",
      "source": [
        "#Applies walk_trough_dir function to path\n",
        "walk_through_dir(data_path)"
      ],
      "metadata": {
        "colab": {
          "base_uri": "https://localhost:8080/"
        },
        "id": "yZkC6Z7AJpio",
        "outputId": "fd78ca85-c330-4605-d440-ac4bfa9ee362"
      },
      "execution_count": null,
      "outputs": [
        {
          "output_type": "stream",
          "name": "stdout",
          "text": [
            "There are 2 directories and 1 images in 'data'.\n",
            "There are 1 directories and 0 images in 'data/MNIST'.\n",
            "There are 0 directories and 8 images in 'data/MNIST/raw'.\n",
            "There are 10 directories and 0 images in 'data/custom_images'.\n",
            "There are 0 directories and 5 images in 'data/custom_images/7 - seven'.\n",
            "There are 0 directories and 5 images in 'data/custom_images/5 - five'.\n",
            "There are 0 directories and 5 images in 'data/custom_images/4 - four'.\n",
            "There are 0 directories and 5 images in 'data/custom_images/3 - three'.\n",
            "There are 0 directories and 5 images in 'data/custom_images/2 - two'.\n",
            "There are 0 directories and 5 images in 'data/custom_images/1 - one'.\n",
            "There are 0 directories and 5 images in 'data/custom_images/6 - six'.\n",
            "There are 0 directories and 5 images in 'data/custom_images/9 - nine'.\n",
            "There are 0 directories and 5 images in 'data/custom_images/8 - eight'.\n",
            "There are 0 directories and 5 images in 'data/custom_images/0 - zero'.\n"
          ]
        }
      ]
    },
    {
      "cell_type": "markdown",
      "source": [
        "Se puede observar que las carpetas que contienen las imagenes son a su vez la clase de estas."
      ],
      "metadata": {
        "id": "6pBLYfXsfr3O"
      }
    },
    {
      "cell_type": "markdown",
      "source": [
        "#TRANSFORMACION A REALIZAR EN CUSTOM DATA"
      ],
      "metadata": {
        "id": "9UUeXfBFQuod"
      }
    },
    {
      "cell_type": "markdown",
      "source": [
        "Para realizar el pre procesado de las imagenes se tranforman a tensores y se normalizan. Ademas se deben reescalar a un tamaño de 28x28. Tambien se deben transformar a una escala de gris y mostrar con un canal de color de 1.\n",
        "Para que coincidan con las imagenes usadas para el entrenamiento y testeo; es decir, para poder ser utilizadas por el modelo."
      ],
      "metadata": {
        "id": "mcIoaM2Bf6zm"
      }
    },
    {
      "cell_type": "code",
      "source": [
        "#Transformation to tensor, resize, grayscale and normalize\n",
        "custom_data_transform = v2.Compose([\n",
        "    v2.ToImage(),  # Convert to tensor, only needed if you had a PIL image\n",
        "    v2.ToDtype(torch.uint8, scale=True),  # optional, most input are already uint8 at this point\n",
        "    v2.Resize(size=(28, 28), antialias=True), #Resize to 28x28\n",
        "    v2.ToDtype(torch.float32, scale=True),  # Normalize expects float input\n",
        "    v2.ToTensor(), #Tranform to tensor\n",
        "    v2.Normalize([0, 0, 0], [1, 1, 1]), #Normalize\n",
        "    v2.Grayscale(num_output_channels=1) #Set to grayscale with only one color channel\n",
        "])\n"
      ],
      "metadata": {
        "colab": {
          "base_uri": "https://localhost:8080/"
        },
        "id": "vVb0CQlUGND2",
        "outputId": "0e41ca8a-b1b3-44c5-85ff-14889d8f0f30"
      },
      "execution_count": null,
      "outputs": [
        {
          "output_type": "stream",
          "name": "stderr",
          "text": [
            "/usr/local/lib/python3.10/dist-packages/torchvision/transforms/v2/_deprecated.py:43: UserWarning: The transform `ToTensor()` is deprecated and will be removed in a future release. Instead, please use `v2.Compose([v2.ToImage(), v2.ToDtype(torch.float32, scale=True)])`.\n",
            "  warnings.warn(\n"
          ]
        }
      ]
    },
    {
      "cell_type": "code",
      "source": [
        "#Applies tranformation\n",
        "custom_image_data = datasets.ImageFolder(root = custom_image_path,\n",
        "                                         transform = custom_data_transform, #Transform for the data\n",
        "                                         target_transform = None)"
      ],
      "metadata": {
        "id": "Cm1vPLTwG9jF"
      },
      "execution_count": null,
      "outputs": []
    },
    {
      "cell_type": "markdown",
      "source": [
        "#VISUALIZACIÓN IMAGENES TRANSFORMADAS"
      ],
      "metadata": {
        "id": "9FSJ8fvd0GwH"
      }
    },
    {
      "cell_type": "markdown",
      "source": [
        "Se realiza la visualización de la misma imagen que antes pero una vez tranformada en tensor y adaptada para el modelo TinyVGG pueda realizar una predicción sobre esta."
      ],
      "metadata": {
        "id": "H0UFo2bChDwr"
      }
    },
    {
      "cell_type": "code",
      "source": [
        "custom_class_names = custom_image_data.classes"
      ],
      "metadata": {
        "id": "DbOzvqFu1van"
      },
      "execution_count": null,
      "outputs": []
    },
    {
      "cell_type": "code",
      "source": [
        "#Define seed\n",
        "random.seed(42)\n",
        "#Create samples and labels list\n",
        "test_samples = []\n",
        "test_labels = []\n",
        "for sample, label in random.sample(list(custom_image_data), k=9):\n",
        "    test_samples.append(sample)\n",
        "    test_labels.append(label)\n",
        "\n",
        "# View the first test sample shape and label\n",
        "print(f\"Test sample label: {test_labels[0]} ({custom_class_names[test_labels[0]]})\")"
      ],
      "metadata": {
        "colab": {
          "base_uri": "https://localhost:8080/"
        },
        "id": "tdySyrdlZXox",
        "outputId": "fc8204c9-33c9-449c-8344-ea4cd2553dfc"
      },
      "execution_count": null,
      "outputs": [
        {
          "output_type": "stream",
          "name": "stdout",
          "text": [
            "Test sample label: 8 (8 - eight)\n"
          ]
        }
      ]
    },
    {
      "cell_type": "code",
      "source": [
        "#Show image, permutation need tensors are [color_channels, height, width] -> matplotlib use [height, width, color_channels]\n",
        "plt.imshow(test_samples[0].permute(1,2,0),cmap=\"gray\")\n",
        "#Set title equal to it's class\n",
        "plt.title(custom_class_names[test_labels[0]])"
      ],
      "metadata": {
        "colab": {
          "base_uri": "https://localhost:8080/",
          "height": 469
        },
        "id": "lmnpbtO95c-U",
        "outputId": "56ae15ed-d712-4902-d4a8-972ac6e6c8a1"
      },
      "execution_count": null,
      "outputs": [
        {
          "output_type": "execute_result",
          "data": {
            "text/plain": [
              "Text(0.5, 1.0, '8 - eight')"
            ]
          },
          "metadata": {},
          "execution_count": 38
        },
        {
          "output_type": "display_data",
          "data": {
            "text/plain": [
              "<Figure size 640x480 with 1 Axes>"
            ],
            "image/png": "[encoded data removed]"
          },
          "metadata": {}
        }
      ]
    },
    {
      "cell_type": "markdown",
      "source": [
        "#CREACIÓN CUSTOM DATASET A PARTIR DE CARPETA CON IMAGENES"
      ],
      "metadata": {
        "id": "Qa7XrIOKO0Zg"
      }
    },
    {
      "cell_type": "markdown",
      "source": [
        "Se define un nuevo dataset. El cual contiene las imagenes descargadas pero tranformadas aplicando lo definido anteriormente. Ademas este dataset contendra las clases de dichas imagenes a partir de la carpeta donde se encuentran guardadas."
      ],
      "metadata": {
        "id": "zbSDqMKQhn4I"
      }
    },
    {
      "cell_type": "code",
      "source": [
        "# Setup path for target directory\n",
        "custom_target_directory = custom_image_path\n",
        "print(f\"Target directory: {custom_target_directory}\")\n",
        "\n",
        "# Get the class names from the target directory\n",
        "custom_class_names_found = sorted([entry.name for entry in list(os.scandir(custom_target_directory))])\n",
        "print(f\"Class names found: {custom_class_names_found}\")"
      ],
      "metadata": {
        "colab": {
          "base_uri": "https://localhost:8080/"
        },
        "id": "zFyiL3xQeYrh",
        "outputId": "997a7316-7aad-49a4-b4fa-66fa7e8de26f"
      },
      "execution_count": null,
      "outputs": [
        {
          "output_type": "stream",
          "name": "stdout",
          "text": [
            "Target directory: data/custom_images\n",
            "Class names found: ['0 - zero', '1 - one', '2 - two', '3 - three', '4 - four', '5 - five', '6 - six', '7 - seven', '8 - eight', '9 - nine']\n"
          ]
        }
      ]
    },
    {
      "cell_type": "markdown",
      "source": [
        "Se definen funciones para la implementación."
      ],
      "metadata": {
        "id": "VvPA7HdJiRkQ"
      }
    },
    {
      "cell_type": "code",
      "source": [
        "# Make function to find classes in target directory\n",
        "def find_classes(directory: str) -> Tuple[List[str], Dict[str, int]]:\n",
        "    \"\"\"Finds the class folder names in a target directory.\n",
        "\n",
        "    Assumes target directory is in standard image classification format.\n",
        "\n",
        "    Args:\n",
        "        directory (str): target directory to load classnames from.\n",
        "\n",
        "    Returns:\n",
        "        Tuple[List[str], Dict[str, int]]: (list_of_class_names, dict(class_name: idx...))\n",
        "    \"\"\"\n",
        "    # 1. Get the class names by scanning the target directory\n",
        "    classes = sorted(entry.name for entry in os.scandir(directory) if entry.is_dir())\n",
        "\n",
        "    # 2. Raise an error if class names not found\n",
        "    if not classes:\n",
        "        raise FileNotFoundError(f\"Couldn't find any classes in {directory}.\")\n",
        "\n",
        "    # 3. Create a dictionary of index labels (computers prefer numerical rather than string labels)\n",
        "    class_to_idx = {cls_name: i for i, cls_name in enumerate(classes)}\n",
        "    return classes, class_to_idx"
      ],
      "metadata": {
        "id": "RGxG7dtIdEkk"
      },
      "execution_count": null,
      "outputs": []
    },
    {
      "cell_type": "code",
      "source": [
        "# 1. Subclass torch.utils.data.Dataset\n",
        "class ImageFolderCustom(Dataset):\n",
        "    '''\n",
        "    Subclass of torch.utils.data.Dataset for creating a custom image dataset.\n",
        "    This class allows easy loading and transformation of image data.\n",
        "    Parameters:\n",
        "    - targ_dir: Path to the target directory containing class subdirectories with image files.\n",
        "    - transform: Optional data transformation to be applied to the images (default is None).\n",
        "    Attributes:\n",
        "    - paths: List of pathlib.Path objects representing the paths to all image files.\n",
        "    - transform: Data transformation function.\n",
        "    - classes: List of class names.\n",
        "    - class_to_idx: Dictionary mapping class names to their corresponding indices.\n",
        "    Methods:\n",
        "    - load_image(index): Loads an image at the specified index using its path.\n",
        "    - __len__(): Returns the total number of samples in the dataset.\n",
        "    - __getitem__(index): Returns one sample of data as a tuple (X, y), where X is the image data and y is the class index.\n",
        "    Example:\n",
        "      custom_dataset = ImageFolderCustom(targ_dir=\"path/to/data\", transform=my_transform)\n",
        "      sample = custom_dataset[0]\n",
        "    '''\n",
        "    # 2. Initialize with a targ_dir and transform (optional) parameter\n",
        "    def __init__(self, targ_dir: str, transform=None) -> None:\n",
        "\n",
        "        # 3. Create class attributes\n",
        "        # Get all image paths\n",
        "        self.paths = list(pathlib.Path(targ_dir).glob(\"*/*.jpg\")) # note: you'd have to update this if you've got .png's or .jpeg's\n",
        "        # Setup transforms\n",
        "        self.transform = transform\n",
        "        # Create classes and class_to_idx attributes\n",
        "        self.classes, self.class_to_idx = find_classes(targ_dir)\n",
        "\n",
        "    # 4. Make function to load images\n",
        "    def load_image(self, index: int) -> Image.Image:\n",
        "        \"Opens an image via a path and returns it.\"\n",
        "        image_path = self.paths[index]\n",
        "        return Image.open(image_path)\n",
        "\n",
        "    # 5. Overwrite the __len__() method (optional but recommended for subclasses of torch.utils.data.Dataset)\n",
        "    def __len__(self) -> int:\n",
        "        \"Returns the total number of samples.\"\n",
        "        return len(self.paths)\n",
        "\n",
        "    # 6. Overwrite the __getitem__() method (required for subclasses of torch.utils.data.Dataset)\n",
        "    def __getitem__(self, index: int) -> Tuple[torch.Tensor, int]:\n",
        "        \"Returns one sample of data, data and label (X, y).\"\n",
        "        img = self.load_image(index)\n",
        "        class_name  = self.paths[index].parent.name # expects path in data_folder/class_name/image.jpeg\n",
        "        class_idx = self.class_to_idx[class_name]\n",
        "\n",
        "        # Transform if necessary\n",
        "        if self.transform:\n",
        "            return self.transform(img), class_idx # return data, label (X, y)\n",
        "        else:\n",
        "            return img, class_idx # return data, label (X, y)"
      ],
      "metadata": {
        "id": "4vo0Qy9Dczfv"
      },
      "execution_count": null,
      "outputs": []
    },
    {
      "cell_type": "markdown",
      "source": [
        "Se crea un nuevo dataset custom data el cual tiene el mismo formato y tipo de imagenes que el que fue usado para entrenar el modelo TinyVGG pero a partir de las imagenes descargadas."
      ],
      "metadata": {
        "id": "ipwtESI8h52d"
      }
    },
    {
      "cell_type": "code",
      "source": [
        "#Create new dataset using custom data and tranformation\n",
        "custom_data = ImageFolderCustom(targ_dir=custom_image_path,\n",
        "                                transform=custom_data_transform)"
      ],
      "metadata": {
        "id": "u2r_J_Fgc3wb"
      },
      "execution_count": null,
      "outputs": []
    },
    {
      "cell_type": "markdown",
      "source": [
        "Como podemos observas tantos las clases como los indices de estas coinciden con lo que se venian trabajando."
      ],
      "metadata": {
        "id": "R8rQoeR9h4Wf"
      }
    },
    {
      "cell_type": "code",
      "source": [
        "#Check classes and class_to_idx works properly in our custom dataset\n",
        "custom_data.classes, custom_data.class_to_idx"
      ],
      "metadata": {
        "colab": {
          "base_uri": "https://localhost:8080/"
        },
        "id": "3qEWSIpje6mX",
        "outputId": "d583d7fb-6d1c-4455-c627-b9a9fab8624a"
      },
      "execution_count": null,
      "outputs": [
        {
          "output_type": "execute_result",
          "data": {
            "text/plain": [
              "(['0 - zero',\n",
              "  '1 - one',\n",
              "  '2 - two',\n",
              "  '3 - three',\n",
              "  '4 - four',\n",
              "  '5 - five',\n",
              "  '6 - six',\n",
              "  '7 - seven',\n",
              "  '8 - eight',\n",
              "  '9 - nine'],\n",
              " {'0 - zero': 0,\n",
              "  '1 - one': 1,\n",
              "  '2 - two': 2,\n",
              "  '3 - three': 3,\n",
              "  '4 - four': 4,\n",
              "  '5 - five': 5,\n",
              "  '6 - six': 6,\n",
              "  '7 - seven': 7,\n",
              "  '8 - eight': 8,\n",
              "  '9 - nine': 9})"
            ]
          },
          "metadata": {},
          "execution_count": 43
        }
      ]
    },
    {
      "cell_type": "markdown",
      "source": [
        "#CREACIÓN DATALOADER A PARTIR DE CUSTOM DATASET"
      ],
      "metadata": {
        "id": "rrYVgLgURYV7"
      }
    },
    {
      "cell_type": "markdown",
      "source": [
        "Creación de dataloader usando el custom dataset."
      ],
      "metadata": {
        "id": "5ws2kTitivKk"
      }
    },
    {
      "cell_type": "code",
      "source": [
        "#Define batch size\n",
        "BATCH_SIZE = 32\n",
        "\n",
        "#Define custom dataloader\n",
        "custom_dataloader = torch.utils.data.DataLoader(dataset = custom_data, batch_size=BATCH_SIZE,shuffle = np.False_)"
      ],
      "metadata": {
        "id": "iBUhZ8jJ01AG"
      },
      "execution_count": null,
      "outputs": []
    },
    {
      "cell_type": "code",
      "source": [
        "#Check custom dataloader shape and batch shape\n",
        "train_custom_features_batch, train_custom_labels_batch = next(iter(custom_dataloader))\n",
        "train_custom_features_batch.shape, train_custom_labels_batch.shape"
      ],
      "metadata": {
        "colab": {
          "base_uri": "https://localhost:8080/"
        },
        "id": "qNb8aUu7cCxG",
        "outputId": "e3218347-6c18-450f-b09d-d898b2c8eff0"
      },
      "execution_count": null,
      "outputs": [
        {
          "output_type": "execute_result",
          "data": {
            "text/plain": [
              "(torch.Size([32, 1, 28, 28]), torch.Size([32]))"
            ]
          },
          "metadata": {},
          "execution_count": 45
        }
      ]
    },
    {
      "cell_type": "markdown",
      "source": [
        "# PREDICCIÓN MINI SET ALEATORIO DE CUSTOM IMAGES"
      ],
      "metadata": {
        "id": "otWSAvZ9RoH-"
      }
    },
    {
      "cell_type": "markdown",
      "source": [
        "Ahora se realiza la misma actividad que en la primer parte,se realiza una prueba de predicción utilizando imagenes aleatorias, siendo la diferencia que en esta ocasión no se utilizaran imagenes provenientes del dataset MNIST. Sino que las mismas son imagenes del dataset creado anteriormente con las imagenes descargadas."
      ],
      "metadata": {
        "id": "qrENTgCd4-w6"
      }
    },
    {
      "cell_type": "code",
      "source": [
        "#Set seed\n",
        "random.seed(45)\n",
        "#Create empty list for samples and labels\n",
        "random_custom_samples = []\n",
        "random_custom_labels = []\n",
        "#Get the random data using for loop\n",
        "for sample, label in random.sample(list(custom_data), k=9):\n",
        "    random_custom_samples.append(sample)\n",
        "    random_custom_labels.append(label)"
      ],
      "metadata": {
        "id": "uQ-tfppER-cO"
      },
      "execution_count": null,
      "outputs": []
    },
    {
      "cell_type": "code",
      "source": [
        "#Make predictions\n",
        "custom_pred_probs= make_predictions(model=model_0,\n",
        "                             data=random_custom_samples)\n",
        "\n",
        "#Transform prediction probabilities -> predictions labels using argmax\n",
        "random_custom_pred_classes = custom_pred_probs.argmax(dim=1)"
      ],
      "metadata": {
        "id": "KRN0tt_6SC0n"
      },
      "execution_count": null,
      "outputs": []
    },
    {
      "cell_type": "code",
      "source": [
        "# Plot predictions\n",
        "plt.figure(figsize=(9, 9))\n",
        "nrows = 3\n",
        "ncols = 3\n",
        "for i, sample in enumerate(random_custom_samples):\n",
        "  # Create a subplot\n",
        "  plt.subplot(nrows, ncols, i+1)\n",
        "\n",
        "  # Plot the target image\n",
        "  plt.imshow(sample.squeeze(), cmap=\"gray\")\n",
        "\n",
        "  # Find the prediction label (in text form, e.g. \"1 - one\")\n",
        "  pred_label = class_names[random_custom_pred_classes[i]]\n",
        "\n",
        "  # Get the truth label (in text form, e.g. \"1 - one\")\n",
        "  truth_label = class_names[random_custom_labels[i]]\n",
        "\n",
        "  # Create the title text of the plot\n",
        "  title_text = f\"Pred: {pred_label} | Truth: {truth_label}\"\n",
        "\n",
        "  # Check for equality and change title colour accordingly\n",
        "  if pred_label == truth_label:\n",
        "      plt.title(title_text, fontsize=10, c=\"g\") # green text if correct\n",
        "  else:\n",
        "      plt.title(title_text, fontsize=10, c=\"r\") # red text if wrong\n",
        "  plt.axis(False);"
      ],
      "metadata": {
        "id": "8iPCmx9bSHSJ",
        "colab": {
          "base_uri": "https://localhost:8080/",
          "height": 749
        },
        "outputId": "5cf3203e-4b30-43af-97ef-334b50441949"
      },
      "execution_count": null,
      "outputs": [
        {
          "output_type": "display_data",
          "data": {
            "text/plain": [
              "<Figure size 900x900 with 9 Axes>"
            ],
            "image/png": "[encoded data removed]"
          },
          "metadata": {}
        }
      ]
    },
    {
      "cell_type": "markdown",
      "source": [
        "Como podemos ver nuestro modelo acertó en 7 de 9 imagenes descargadas, lo cual es bastante aceptable."
      ],
      "metadata": {
        "id": "Dp7l7d-R5ln9"
      }
    },
    {
      "cell_type": "markdown",
      "source": [
        "#EVALUACIÓN DEL MODELO CON CUSTOM DATASET"
      ],
      "metadata": {
        "id": "UsHbCU9QSIKJ"
      }
    },
    {
      "cell_type": "markdown",
      "source": [
        "Como etapa final, se realizan predicciones para todas las imagenes descargadas. A fin de poder calcular la precisión que obtiene el modelo con este set de datos desconocido.\n",
        "Primeramente se extraen las clases correspondientes a cada imagen a fin de compararlas posteriormente con las clases inferidas por el modelo."
      ],
      "metadata": {
        "id": "Up5p0kXw8yjq"
      }
    },
    {
      "cell_type": "code",
      "source": [
        "#Create empty list for samples and labels\n",
        "custom_samples = []\n",
        "custom_labels = []\n",
        "#Get the samples and labels data using for loop\n",
        "for sample, label in list(custom_data):\n",
        "    custom_samples.append(sample)\n",
        "    custom_labels.append(label)"
      ],
      "metadata": {
        "id": "n-8rTapCGT_g"
      },
      "execution_count": null,
      "outputs": []
    },
    {
      "cell_type": "code",
      "source": [
        "#Print custom labels\n",
        "print(custom_labels)"
      ],
      "metadata": {
        "colab": {
          "base_uri": "https://localhost:8080/"
        },
        "id": "WalGi5aAHkSG",
        "outputId": "9c19c016-d335-48c1-a31a-1c0df10cda87"
      },
      "execution_count": null,
      "outputs": [
        {
          "output_type": "stream",
          "name": "stdout",
          "text": [
            "[7, 7, 7, 7, 7, 5, 5, 5, 5, 5, 4, 4, 4, 4, 4, 3, 3, 3, 3, 3, 2, 2, 2, 2, 2, 1, 1, 1, 1, 1, 6, 6, 6, 6, 6, 9, 9, 9, 9, 9, 8, 8, 8, 8, 8, 0, 0, 0, 0, 0]\n"
          ]
        }
      ]
    },
    {
      "cell_type": "code",
      "source": [
        "#Tranform list of custom labels into tensor\n",
        "torch.Tensor(custom_labels)"
      ],
      "metadata": {
        "colab": {
          "base_uri": "https://localhost:8080/"
        },
        "id": "J_LZc_bhiHkZ",
        "outputId": "f0c141e8-e322-4956-fb5c-36ea272e014c"
      },
      "execution_count": null,
      "outputs": [
        {
          "output_type": "execute_result",
          "data": {
            "text/plain": [
              "tensor([7., 7., 7., 7., 7., 5., 5., 5., 5., 5., 4., 4., 4., 4., 4., 3., 3., 3.,\n",
              "        3., 3., 2., 2., 2., 2., 2., 1., 1., 1., 1., 1., 6., 6., 6., 6., 6., 9.,\n",
              "        9., 9., 9., 9., 8., 8., 8., 8., 8., 0., 0., 0., 0., 0.])"
            ]
          },
          "metadata": {},
          "execution_count": 51
        }
      ]
    },
    {
      "cell_type": "markdown",
      "source": [
        "Se realiza la predicción de clases del dataset creado anteriormente."
      ],
      "metadata": {
        "id": "YFdsF6Ib9Pdr"
      }
    },
    {
      "cell_type": "code",
      "source": [
        "#Make predictions with trained model\n",
        "y_preds = []\n",
        "model_0.eval()\n",
        "with torch.inference_mode():\n",
        "  for X, y in tqdm(custom_dataloader, desc=\"Making predictions\"):\n",
        "    # Send data and targets to target device\n",
        "    X, y = X.to(device), y.to(device)\n",
        "    # Do the forward pass\n",
        "    y_logit = model_0(X)\n",
        "    # Turn predictions from logits -> prediction probabilities -> predictions labels\n",
        "    y_pred = torch.softmax(y_logit, dim=1).argmax(dim=1) # note: perform softmax on the \"logits\" dimension, not \"batch\" dimension (in this case we have a batch size of 32, so can perform on dim=1)\n",
        "    # Put predictions on CPU for evaluation\n",
        "    y_preds.append(y_pred.cpu())\n",
        "# Concatenate list of predictions into a tensor\n",
        "custom_pred_tensor = torch.cat(y_preds)"
      ],
      "metadata": {
        "colab": {
          "base_uri": "https://localhost:8080/",
          "height": 49,
          "referenced_widgets": [
            "f86df2862dac41c2931506ee3841eebd",
            "6a79b16c4db9420ab580eb1460df1794",
            "99d797f69acb415ea8bfa7edb65d43ee",
            "7671f1379ab040f2a0f5dd3c64d2028a",
            "95805df1703b4ec4ad8e7205bc33e7c3",
            "8866505ff7b8470099de456ee132aa23",
            "9b823e3bc41f467eaf3361068ad144c8",
            "81afbd33f4ca472ca010d127aba17f76",
            "d801f6fa8b864b46af903b1a4eaab477",
            "0cdcdcdff09145ac917aea7fd00fb336",
            "03552198140e43888da963fee2285439"
          ]
        },
        "id": "-OJDuRB9JsBW",
        "outputId": "ad6150bf-5369-4867-d997-a648b3ab7722"
      },
      "execution_count": null,
      "outputs": [
        {
          "output_type": "display_data",
          "data": {
            "text/plain": [
              "Making predictions:   0%|          | 0/2 [00:00<?, ?it/s]"
            ],
            "application/vnd.jupyter.widget-view+json": {
              "version_major": 2,
              "version_minor": 0,
              "model_id": "f86df2862dac41c2931506ee3841eebd"
            }
          },
          "metadata": {}
        }
      ]
    },
    {
      "cell_type": "markdown",
      "source": [
        "Observamos que numeros detectecto nuestro modelo para el set de datos descargados que se paso."
      ],
      "metadata": {
        "id": "xmxk-WA49GXY"
      }
    },
    {
      "cell_type": "code",
      "source": [
        "#Let's see predicted classes tensor\n",
        "custom_pred_tensor"
      ],
      "metadata": {
        "colab": {
          "base_uri": "https://localhost:8080/"
        },
        "id": "hyrOq7XLMNEV",
        "outputId": "490df264-7f33-40f1-fddc-2fe865cef3aa"
      },
      "execution_count": null,
      "outputs": [
        {
          "output_type": "execute_result",
          "data": {
            "text/plain": [
              "tensor([7, 1, 7, 7, 7, 2, 5, 5, 5, 5, 7, 4, 4, 4, 4, 3, 3, 3, 3, 3, 2, 2, 2, 2,\n",
              "        2, 1, 1, 1, 1, 1, 6, 6, 6, 8, 5, 9, 9, 9, 8, 1, 8, 8, 8, 8, 8, 0, 9, 5,\n",
              "        9, 0])"
            ]
          },
          "metadata": {},
          "execution_count": 53
        }
      ]
    },
    {
      "cell_type": "markdown",
      "source": [
        "En este caso nuestro modelo acerto un 80% de las veces. Lo cual es un resultado aceptable. Ya que es un modelo simple, liviano y rapido; ademas de que este nuevo set de datos era diferente al set utilizado para prueba y testeo. Pudiendose realizar mejoras a futuro para equiparar este resultado con los obtenidos usando el dataset MNIST."
      ],
      "metadata": {
        "id": "J9APhc5V9o7t"
      }
    },
    {
      "cell_type": "code",
      "source": [
        "#Calculate accuracy with custom data\n",
        "score_custom_data = accuracy_score(torch.Tensor(custom_labels), custom_pred_tensor)\n",
        "score_custom_data"
      ],
      "metadata": {
        "colab": {
          "base_uri": "https://localhost:8080/"
        },
        "id": "PmW5bpELisiZ",
        "outputId": "ecccf4c6-d677-4c56-b0b7-a6f2a5f4f883"
      },
      "execution_count": null,
      "outputs": [
        {
          "output_type": "execute_result",
          "data": {
            "text/plain": [
              "0.8"
            ]
          },
          "metadata": {},
          "execution_count": 54
        }
      ]
    },
    {
      "cell_type": "markdown",
      "source": [
        "Por último se agrega una matriz de confusión para poder visualizar en que clases fue mas robusto el modelo con el set de datos descargado."
      ],
      "metadata": {
        "id": "xzIW-QRy-D5U"
      }
    },
    {
      "cell_type": "code",
      "source": [
        "#Create confusion matrix for our custom data\n",
        "confmat = ConfusionMatrix(num_classes=len(class_names), task='multiclass')\n",
        "confmat_tensor = confmat(preds=custom_pred_tensor,\n",
        "                         target=torch.Tensor(custom_labels))\n",
        "\n",
        "fig, ax = plot_confusion_matrix(\n",
        "    conf_mat=confmat_tensor.numpy(), # matplotlib likes working with NumPy\n",
        "    class_names=class_names, # turn the row and column labels into class names\n",
        "    figsize=(10, 7) #define\n",
        ");"
      ],
      "metadata": {
        "colab": {
          "base_uri": "https://localhost:8080/",
          "height": 660
        },
        "id": "WvWlYnNdJzTF",
        "outputId": "a1370eb8-4e19-4398-f824-61bbad33dd85"
      },
      "execution_count": null,
      "outputs": [
        {
          "output_type": "display_data",
          "data": {
            "text/plain": [
              "<Figure size 1000x700 with 1 Axes>"
            ],
            "image/png": "[encoded data removed]"
          },
          "metadata": {}
        }
      ]
    },
    {
      "cell_type": "markdown",
      "source": [
        "# CONCLUSIÓN"
      ],
      "metadata": {
        "id": "3tcFpZoR-Ppb"
      }
    },
    {
      "cell_type": "markdown",
      "source": [
        "El presente trabajo buscó la creación de un modelo capaz de detectar numeros a partir de imagenes; presento dos etapas separadas cada una con sus desafíos, los cuales se fueron abordando a lo largo de todo el recorrido. Pudiendo conseguir los objetivos propuestos, realizando un analisis y descripción de cada etapa para una mejor comprensión.\n",
        "Permitiendo poder ser base para otros trabajos similares, ya que por su confección el código implementado sirve a su vez como guía.\n",
        "Obteniendo resultados satisfactorios de precisión, tiempo de ejecución y peso queda resuelta la actividad propuesta."
      ],
      "metadata": {
        "id": "FMO8xrJS-UsC"
      }
    }
  ]
}